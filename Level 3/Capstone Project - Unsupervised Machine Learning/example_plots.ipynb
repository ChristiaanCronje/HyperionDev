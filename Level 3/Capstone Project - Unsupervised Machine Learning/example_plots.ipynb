{
 "cells": [
  {
   "cell_type": "markdown",
   "metadata": {
    "id": "ivItvy2-IrS1"
   },
   "source": [
    "# Unsupervised learning - PCA and clustering example notebook"
   ]
  },
  {
   "cell_type": "markdown",
   "metadata": {
    "id": "FU76fn7LIrS_"
   },
   "source": [
    "## Exploring the data"
   ]
  },
  {
   "cell_type": "code",
   "execution_count": 2,
   "metadata": {
    "id": "2ZO5F-hTIrTB",
    "outputId": "17b3c488-9c68-4a9b-e489-d2585fbeab3a",
    "tags": []
   },
   "outputs": [
    {
     "data": {
      "text/html": [
       "<div>\n",
       "<style scoped>\n",
       "    .dataframe tbody tr th:only-of-type {\n",
       "        vertical-align: middle;\n",
       "    }\n",
       "\n",
       "    .dataframe tbody tr th {\n",
       "        vertical-align: top;\n",
       "    }\n",
       "\n",
       "    .dataframe thead th {\n",
       "        text-align: right;\n",
       "    }\n",
       "</style>\n",
       "<table border=\"1\" class=\"dataframe\">\n",
       "  <thead>\n",
       "    <tr style=\"text-align: right;\">\n",
       "      <th></th>\n",
       "      <th>Country Groups</th>\n",
       "      <th>BX.KLT.DINV.WD.GD.ZS</th>\n",
       "      <th>EG.ELC.ACCS.ZS</th>\n",
       "      <th>EG.FEC.RNEW.ZS</th>\n",
       "      <th>EN.ATM.CO2E.PC</th>\n",
       "      <th>FP.CPI.TOTL.ZG</th>\n",
       "      <th>IT.CEL.SETS.P2</th>\n",
       "      <th>IT.NET.USER.ZS</th>\n",
       "      <th>NE.EXP.GNFS.ZS</th>\n",
       "      <th>NE.IMP.GNFS.ZS</th>\n",
       "      <th>NY.GDP.PCAP.CD</th>\n",
       "      <th>SP.DYN.AMRT.FE</th>\n",
       "      <th>SP.DYN.AMRT.MA</th>\n",
       "      <th>SP.DYN.CBRT.IN</th>\n",
       "      <th>SP.DYN.CDRT.IN</th>\n",
       "      <th>SP.DYN.IMRT.IN</th>\n",
       "      <th>SP.DYN.LE00.IN</th>\n",
       "      <th>SP.DYN.TFRT.IN</th>\n",
       "      <th>SP.POP.GROW</th>\n",
       "      <th>SP.URB.TOTL.IN.ZS</th>\n",
       "    </tr>\n",
       "    <tr>\n",
       "      <th>Country</th>\n",
       "      <th></th>\n",
       "      <th></th>\n",
       "      <th></th>\n",
       "      <th></th>\n",
       "      <th></th>\n",
       "      <th></th>\n",
       "      <th></th>\n",
       "      <th></th>\n",
       "      <th></th>\n",
       "      <th></th>\n",
       "      <th></th>\n",
       "      <th></th>\n",
       "      <th></th>\n",
       "      <th></th>\n",
       "      <th></th>\n",
       "      <th></th>\n",
       "      <th></th>\n",
       "      <th></th>\n",
       "      <th></th>\n",
       "      <th></th>\n",
       "    </tr>\n",
       "  </thead>\n",
       "  <tbody>\n",
       "    <tr>\n",
       "      <th>CEB</th>\n",
       "      <td>Central Europe and the Baltics</td>\n",
       "      <td>1.555790</td>\n",
       "      <td>100.000000</td>\n",
       "      <td>14.538355</td>\n",
       "      <td>6.820042</td>\n",
       "      <td>1.840965</td>\n",
       "      <td>122.192106</td>\n",
       "      <td>58.599297</td>\n",
       "      <td>52.333390</td>\n",
       "      <td>53.038989</td>\n",
       "      <td>12567.128310</td>\n",
       "      <td>77.039930</td>\n",
       "      <td>189.578062</td>\n",
       "      <td>10.543330</td>\n",
       "      <td>11.429917</td>\n",
       "      <td>6.019183</td>\n",
       "      <td>75.295349</td>\n",
       "      <td>1.465325</td>\n",
       "      <td>-0.362710</td>\n",
       "      <td>62.059417</td>\n",
       "    </tr>\n",
       "    <tr>\n",
       "      <th>CSS</th>\n",
       "      <td>Caribbean small states</td>\n",
       "      <td>4.658176</td>\n",
       "      <td>93.114511</td>\n",
       "      <td>9.096342</td>\n",
       "      <td>9.277109</td>\n",
       "      <td>3.250344</td>\n",
       "      <td>113.628492</td>\n",
       "      <td>35.407690</td>\n",
       "      <td>44.935642</td>\n",
       "      <td>43.747235</td>\n",
       "      <td>8726.326154</td>\n",
       "      <td>121.928584</td>\n",
       "      <td>200.568068</td>\n",
       "      <td>17.555646</td>\n",
       "      <td>7.436407</td>\n",
       "      <td>18.406085</td>\n",
       "      <td>72.252392</td>\n",
       "      <td>2.151960</td>\n",
       "      <td>0.642147</td>\n",
       "      <td>42.083135</td>\n",
       "    </tr>\n",
       "    <tr>\n",
       "      <th>EAP</th>\n",
       "      <td>East Asia &amp; Pacific (excluding high income)</td>\n",
       "      <td>3.796483</td>\n",
       "      <td>94.997330</td>\n",
       "      <td>16.471817</td>\n",
       "      <td>5.106045</td>\n",
       "      <td>3.789836</td>\n",
       "      <td>69.905604</td>\n",
       "      <td>28.957482</td>\n",
       "      <td>30.572597</td>\n",
       "      <td>27.095971</td>\n",
       "      <td>4007.323783</td>\n",
       "      <td>91.717833</td>\n",
       "      <td>134.835195</td>\n",
       "      <td>14.439063</td>\n",
       "      <td>7.019396</td>\n",
       "      <td>19.100000</td>\n",
       "      <td>73.482345</td>\n",
       "      <td>1.843869</td>\n",
       "      <td>0.713160</td>\n",
       "      <td>47.696831</td>\n",
       "    </tr>\n",
       "    <tr>\n",
       "      <th>EAR</th>\n",
       "      <td>Early-demographic dividend</td>\n",
       "      <td>2.073571</td>\n",
       "      <td>79.455104</td>\n",
       "      <td>26.481427</td>\n",
       "      <td>2.119827</td>\n",
       "      <td>4.580200</td>\n",
       "      <td>68.069446</td>\n",
       "      <td>12.835425</td>\n",
       "      <td>27.711023</td>\n",
       "      <td>27.370720</td>\n",
       "      <td>2926.483907</td>\n",
       "      <td>150.595639</td>\n",
       "      <td>214.978616</td>\n",
       "      <td>22.914627</td>\n",
       "      <td>7.028941</td>\n",
       "      <td>40.042149</td>\n",
       "      <td>67.955732</td>\n",
       "      <td>2.763140</td>\n",
       "      <td>1.534541</td>\n",
       "      <td>42.113134</td>\n",
       "    </tr>\n",
       "    <tr>\n",
       "      <th>EAS</th>\n",
       "      <td>East Asia &amp; Pacific</td>\n",
       "      <td>2.930966</td>\n",
       "      <td>95.496185</td>\n",
       "      <td>13.729447</td>\n",
       "      <td>5.701783</td>\n",
       "      <td>3.247588</td>\n",
       "      <td>73.657018</td>\n",
       "      <td>34.269800</td>\n",
       "      <td>32.153225</td>\n",
       "      <td>29.112597</td>\n",
       "      <td>7674.475705</td>\n",
       "      <td>86.702958</td>\n",
       "      <td>130.465277</td>\n",
       "      <td>13.880915</td>\n",
       "      <td>7.095146</td>\n",
       "      <td>18.136433</td>\n",
       "      <td>74.383915</td>\n",
       "      <td>1.797065</td>\n",
       "      <td>0.675231</td>\n",
       "      <td>51.791229</td>\n",
       "    </tr>\n",
       "  </tbody>\n",
       "</table>\n",
       "</div>"
      ],
      "text/plain": [
       "                                      Country Groups  BX.KLT.DINV.WD.GD.ZS  \\\n",
       "Country                                                                      \n",
       "CEB                   Central Europe and the Baltics              1.555790   \n",
       "CSS                           Caribbean small states              4.658176   \n",
       "EAP      East Asia & Pacific (excluding high income)              3.796483   \n",
       "EAR                       Early-demographic dividend              2.073571   \n",
       "EAS                              East Asia & Pacific              2.930966   \n",
       "\n",
       "         EG.ELC.ACCS.ZS  EG.FEC.RNEW.ZS  EN.ATM.CO2E.PC  FP.CPI.TOTL.ZG  \\\n",
       "Country                                                                   \n",
       "CEB          100.000000       14.538355        6.820042        1.840965   \n",
       "CSS           93.114511        9.096342        9.277109        3.250344   \n",
       "EAP           94.997330       16.471817        5.106045        3.789836   \n",
       "EAR           79.455104       26.481427        2.119827        4.580200   \n",
       "EAS           95.496185       13.729447        5.701783        3.247588   \n",
       "\n",
       "         IT.CEL.SETS.P2  IT.NET.USER.ZS  NE.EXP.GNFS.ZS  NE.IMP.GNFS.ZS  \\\n",
       "Country                                                                   \n",
       "CEB          122.192106       58.599297       52.333390       53.038989   \n",
       "CSS          113.628492       35.407690       44.935642       43.747235   \n",
       "EAP           69.905604       28.957482       30.572597       27.095971   \n",
       "EAR           68.069446       12.835425       27.711023       27.370720   \n",
       "EAS           73.657018       34.269800       32.153225       29.112597   \n",
       "\n",
       "         NY.GDP.PCAP.CD  SP.DYN.AMRT.FE  SP.DYN.AMRT.MA  SP.DYN.CBRT.IN  \\\n",
       "Country                                                                   \n",
       "CEB        12567.128310       77.039930      189.578062       10.543330   \n",
       "CSS         8726.326154      121.928584      200.568068       17.555646   \n",
       "EAP         4007.323783       91.717833      134.835195       14.439063   \n",
       "EAR         2926.483907      150.595639      214.978616       22.914627   \n",
       "EAS         7674.475705       86.702958      130.465277       13.880915   \n",
       "\n",
       "         SP.DYN.CDRT.IN  SP.DYN.IMRT.IN  SP.DYN.LE00.IN  SP.DYN.TFRT.IN  \\\n",
       "Country                                                                   \n",
       "CEB           11.429917        6.019183       75.295349        1.465325   \n",
       "CSS            7.436407       18.406085       72.252392        2.151960   \n",
       "EAP            7.019396       19.100000       73.482345        1.843869   \n",
       "EAR            7.028941       40.042149       67.955732        2.763140   \n",
       "EAS            7.095146       18.136433       74.383915        1.797065   \n",
       "\n",
       "         SP.POP.GROW  SP.URB.TOTL.IN.ZS  \n",
       "Country                                  \n",
       "CEB        -0.362710          62.059417  \n",
       "CSS         0.642147          42.083135  \n",
       "EAP         0.713160          47.696831  \n",
       "EAR         1.534541          42.113134  \n",
       "EAS         0.675231          51.791229  "
      ]
     },
     "execution_count": 2,
     "metadata": {},
     "output_type": "execute_result"
    }
   ],
   "source": [
    "import pandas as pd\n",
    "import numpy as np\n",
    "\n",
    "import matplotlib.pyplot as plt\n",
    "%matplotlib inline\n",
    "\n",
    "df = pd.read_csv(\"countries.csv\",index_col='Country')\n",
    "df.head()\n",
    "\n"
   ]
  },
  {
   "cell_type": "code",
   "execution_count": 3,
   "metadata": {
    "id": "lyVg5CwQIrTH",
    "outputId": "707264f0-2cc0-42f1-962a-bcbbc64f639d"
   },
   "outputs": [
    {
     "name": "stdout",
     "output_type": "stream",
     "text": [
      "Number of cases: 44 Number of features: 20\n"
     ]
    }
   ],
   "source": [
    "print('Number of cases: {} Number of features: {}'.format(df.shape[0],df.shape[1]))"
   ]
  },
  {
   "cell_type": "markdown",
   "metadata": {
    "id": "ds2X_qqrIrTJ"
   },
   "source": [
    "First, let us clean the data set ready for the analysis. We rename columns so that it is clearer what they represent."
   ]
  },
  {
   "cell_type": "code",
   "execution_count": 4,
   "metadata": {
    "id": "DCIwQh5tIrTK",
    "outputId": "cacf4d76-3b39-4f31-be14-6f720be1d88e"
   },
   "outputs": [
    {
     "data": {
      "text/plain": [
       "Index(['Country Groups', 'FDI', 'AccessElec', 'Renewable(%)', 'CO2', 'CPI',\n",
       "       'Cellphone', 'Internet(%)', 'Exports(%)', 'Imports(%)', 'GDP($)',\n",
       "       'MortalityFem', 'MortalityMale', 'BirthRate', 'DeathRate',\n",
       "       'MortalityInfant', 'LifeExp', 'FertilityRate', 'PopGrowth(%)',\n",
       "       'UrbanPop(%)'],\n",
       "      dtype='object')"
      ]
     },
     "execution_count": 4,
     "metadata": {},
     "output_type": "execute_result"
    }
   ],
   "source": [
    "d = {   'BX.KLT.DINV.WD.GD.ZS': 'FDI', \n",
    "        'EG.ELC.ACCS.ZS':'AccessElec',\n",
    "        'EG.FEC.RNEW.ZS':'Renewable(%)', \n",
    "        'EN.ATM.CO2E.PC':'CO2', \n",
    "        'FP.CPI.TOTL.ZG':'CPI', \n",
    "        'IT.CEL.SETS.P2':'Cellphone',\n",
    "       'IT.NET.USER.ZS': 'Internet(%)',\n",
    "       'NE.EXP.GNFS.ZS': 'Exports(%)',\n",
    "       'NE.IMP.GNFS.ZS': 'Imports(%)',\n",
    "       'NY.GDP.PCAP.CD': 'GDP($)',\n",
    "       'SP.DYN.AMRT.FE': 'MortalityFem',\n",
    "       'SP.DYN.AMRT.MA': 'MortalityMale',\n",
    "       'SP.DYN.CBRT.IN': 'BirthRate',\n",
    "       'SP.DYN.CDRT.IN': 'DeathRate',\n",
    "       'SP.DYN.IMRT.IN': 'MortalityInfant',\n",
    "       'SP.DYN.LE00.IN': 'LifeExp',\n",
    "       'SP.DYN.TFRT.IN': 'FertilityRate',\n",
    "       'SP.POP.GROW': 'PopGrowth(%)',\n",
    "       'SP.URB.TOTL.IN.ZS': 'UrbanPop(%)'}\n",
    "df.rename(columns = d, inplace = True)\n",
    "df.columns "
   ]
  },
  {
   "cell_type": "markdown",
   "metadata": {
    "id": "lKHmsKQJIrTM"
   },
   "source": [
    "We then need to summarise the statistical properties of the columns:"
   ]
  },
  {
   "cell_type": "code",
   "execution_count": 5,
   "metadata": {
    "id": "7TdqntPJIrTN",
    "outputId": "3c41c034-3014-415d-b383-59a168246a3a"
   },
   "outputs": [
    {
     "data": {
      "text/html": [
       "<div>\n",
       "<style scoped>\n",
       "    .dataframe tbody tr th:only-of-type {\n",
       "        vertical-align: middle;\n",
       "    }\n",
       "\n",
       "    .dataframe tbody tr th {\n",
       "        vertical-align: top;\n",
       "    }\n",
       "\n",
       "    .dataframe thead th {\n",
       "        text-align: right;\n",
       "    }\n",
       "</style>\n",
       "<table border=\"1\" class=\"dataframe\">\n",
       "  <thead>\n",
       "    <tr style=\"text-align: right;\">\n",
       "      <th></th>\n",
       "      <th>mean</th>\n",
       "      <th>std</th>\n",
       "      <th>min</th>\n",
       "      <th>max</th>\n",
       "    </tr>\n",
       "  </thead>\n",
       "  <tbody>\n",
       "    <tr>\n",
       "      <th>FDI</th>\n",
       "      <td>3.39</td>\n",
       "      <td>2.11</td>\n",
       "      <td>0.27</td>\n",
       "      <td>11.56</td>\n",
       "    </tr>\n",
       "    <tr>\n",
       "      <th>AccessElec</th>\n",
       "      <td>76.63</td>\n",
       "      <td>26.00</td>\n",
       "      <td>23.09</td>\n",
       "      <td>100.00</td>\n",
       "    </tr>\n",
       "    <tr>\n",
       "      <th>Renewable(%)</th>\n",
       "      <td>30.77</td>\n",
       "      <td>25.55</td>\n",
       "      <td>1.50</td>\n",
       "      <td>81.01</td>\n",
       "    </tr>\n",
       "    <tr>\n",
       "      <th>CO2</th>\n",
       "      <td>4.14</td>\n",
       "      <td>3.21</td>\n",
       "      <td>0.22</td>\n",
       "      <td>11.56</td>\n",
       "    </tr>\n",
       "    <tr>\n",
       "      <th>CPI</th>\n",
       "      <td>3.89</td>\n",
       "      <td>1.29</td>\n",
       "      <td>1.53</td>\n",
       "      <td>7.58</td>\n",
       "    </tr>\n",
       "    <tr>\n",
       "      <th>Cellphone</th>\n",
       "      <td>76.06</td>\n",
       "      <td>28.70</td>\n",
       "      <td>26.56</td>\n",
       "      <td>122.83</td>\n",
       "    </tr>\n",
       "    <tr>\n",
       "      <th>Internet(%)</th>\n",
       "      <td>27.39</td>\n",
       "      <td>20.54</td>\n",
       "      <td>3.25</td>\n",
       "      <td>72.29</td>\n",
       "    </tr>\n",
       "    <tr>\n",
       "      <th>Exports(%)</th>\n",
       "      <td>31.90</td>\n",
       "      <td>9.44</td>\n",
       "      <td>19.93</td>\n",
       "      <td>62.17</td>\n",
       "    </tr>\n",
       "    <tr>\n",
       "      <th>Imports(%)</th>\n",
       "      <td>32.98</td>\n",
       "      <td>11.35</td>\n",
       "      <td>20.10</td>\n",
       "      <td>80.99</td>\n",
       "    </tr>\n",
       "    <tr>\n",
       "      <th>GDP($)</th>\n",
       "      <td>8864.04</td>\n",
       "      <td>11163.53</td>\n",
       "      <td>522.03</td>\n",
       "      <td>39449.30</td>\n",
       "    </tr>\n",
       "    <tr>\n",
       "      <th>MortalityFem</th>\n",
       "      <td>149.35</td>\n",
       "      <td>76.51</td>\n",
       "      <td>50.16</td>\n",
       "      <td>302.16</td>\n",
       "    </tr>\n",
       "    <tr>\n",
       "      <th>MortalityMale</th>\n",
       "      <td>213.08</td>\n",
       "      <td>72.75</td>\n",
       "      <td>101.46</td>\n",
       "      <td>356.62</td>\n",
       "    </tr>\n",
       "    <tr>\n",
       "      <th>BirthRate</th>\n",
       "      <td>22.80</td>\n",
       "      <td>9.50</td>\n",
       "      <td>10.36</td>\n",
       "      <td>40.75</td>\n",
       "    </tr>\n",
       "    <tr>\n",
       "      <th>DeathRate</th>\n",
       "      <td>8.30</td>\n",
       "      <td>1.81</td>\n",
       "      <td>5.17</td>\n",
       "      <td>11.43</td>\n",
       "    </tr>\n",
       "    <tr>\n",
       "      <th>MortalityInfant</th>\n",
       "      <td>33.49</td>\n",
       "      <td>21.33</td>\n",
       "      <td>3.48</td>\n",
       "      <td>70.22</td>\n",
       "    </tr>\n",
       "    <tr>\n",
       "      <th>LifeExp</th>\n",
       "      <td>69.19</td>\n",
       "      <td>6.94</td>\n",
       "      <td>56.94</td>\n",
       "      <td>80.75</td>\n",
       "    </tr>\n",
       "    <tr>\n",
       "      <th>FertilityRate</th>\n",
       "      <td>2.96</td>\n",
       "      <td>1.29</td>\n",
       "      <td>1.47</td>\n",
       "      <td>5.61</td>\n",
       "    </tr>\n",
       "    <tr>\n",
       "      <th>PopGrowth(%)</th>\n",
       "      <td>1.41</td>\n",
       "      <td>0.92</td>\n",
       "      <td>-0.36</td>\n",
       "      <td>2.94</td>\n",
       "    </tr>\n",
       "    <tr>\n",
       "      <th>UrbanPop(%)</th>\n",
       "      <td>51.31</td>\n",
       "      <td>16.82</td>\n",
       "      <td>22.30</td>\n",
       "      <td>80.02</td>\n",
       "    </tr>\n",
       "  </tbody>\n",
       "</table>\n",
       "</div>"
      ],
      "text/plain": [
       "                   mean      std    min      max\n",
       "FDI                3.39     2.11   0.27    11.56\n",
       "AccessElec        76.63    26.00  23.09   100.00\n",
       "Renewable(%)      30.77    25.55   1.50    81.01\n",
       "CO2                4.14     3.21   0.22    11.56\n",
       "CPI                3.89     1.29   1.53     7.58\n",
       "Cellphone         76.06    28.70  26.56   122.83\n",
       "Internet(%)       27.39    20.54   3.25    72.29\n",
       "Exports(%)        31.90     9.44  19.93    62.17\n",
       "Imports(%)        32.98    11.35  20.10    80.99\n",
       "GDP($)          8864.04 11163.53 522.03 39449.30\n",
       "MortalityFem     149.35    76.51  50.16   302.16\n",
       "MortalityMale    213.08    72.75 101.46   356.62\n",
       "BirthRate         22.80     9.50  10.36    40.75\n",
       "DeathRate          8.30     1.81   5.17    11.43\n",
       "MortalityInfant   33.49    21.33   3.48    70.22\n",
       "LifeExp           69.19     6.94  56.94    80.75\n",
       "FertilityRate      2.96     1.29   1.47     5.61\n",
       "PopGrowth(%)       1.41     0.92  -0.36     2.94\n",
       "UrbanPop(%)       51.31    16.82  22.30    80.02"
      ]
     },
     "execution_count": 5,
     "metadata": {},
     "output_type": "execute_result"
    }
   ],
   "source": [
    "#To set the decimal precision:\n",
    "pd.set_option('display.float_format', lambda x: '%.2f' % x) \n",
    "\n",
    "#The describe function give us insight into the statistical properties of the columns\n",
    "stats = df.describe()\n",
    "selected_stats = stats.loc[[\"mean\",\"std\",\"min\",\"max\"]].transpose() #select relevant rows\n",
    "selected_stats"
   ]
  },
  {
   "cell_type": "markdown",
   "metadata": {
    "id": "ZsLfvVgxIrTP"
   },
   "source": [
    "We also need to determine if we have any missing values, and which features these occur for:"
   ]
  },
  {
   "cell_type": "code",
   "execution_count": 6,
   "metadata": {
    "id": "BcEbitEZIrTS",
    "outputId": "0d1e2995-8cdb-4ad4-a830-5aafdd480d97",
    "tags": []
   },
   "outputs": [
    {
     "data": {
      "text/html": [
       "<div>\n",
       "<style scoped>\n",
       "    .dataframe tbody tr th:only-of-type {\n",
       "        vertical-align: middle;\n",
       "    }\n",
       "\n",
       "    .dataframe tbody tr th {\n",
       "        vertical-align: top;\n",
       "    }\n",
       "\n",
       "    .dataframe thead th {\n",
       "        text-align: right;\n",
       "    }\n",
       "</style>\n",
       "<table border=\"1\" class=\"dataframe\">\n",
       "  <thead>\n",
       "    <tr style=\"text-align: right;\">\n",
       "      <th></th>\n",
       "      <th>missing</th>\n",
       "    </tr>\n",
       "  </thead>\n",
       "  <tbody>\n",
       "    <tr>\n",
       "      <th>Country Groups</th>\n",
       "      <td>0</td>\n",
       "    </tr>\n",
       "    <tr>\n",
       "      <th>FDI</th>\n",
       "      <td>0</td>\n",
       "    </tr>\n",
       "    <tr>\n",
       "      <th>AccessElec</th>\n",
       "      <td>0</td>\n",
       "    </tr>\n",
       "    <tr>\n",
       "      <th>Renewable(%)</th>\n",
       "      <td>0</td>\n",
       "    </tr>\n",
       "    <tr>\n",
       "      <th>CO2</th>\n",
       "      <td>0</td>\n",
       "    </tr>\n",
       "    <tr>\n",
       "      <th>CPI</th>\n",
       "      <td>2</td>\n",
       "    </tr>\n",
       "    <tr>\n",
       "      <th>Cellphone</th>\n",
       "      <td>0</td>\n",
       "    </tr>\n",
       "    <tr>\n",
       "      <th>Internet(%)</th>\n",
       "      <td>0</td>\n",
       "    </tr>\n",
       "    <tr>\n",
       "      <th>Exports(%)</th>\n",
       "      <td>0</td>\n",
       "    </tr>\n",
       "    <tr>\n",
       "      <th>Imports(%)</th>\n",
       "      <td>0</td>\n",
       "    </tr>\n",
       "    <tr>\n",
       "      <th>GDP($)</th>\n",
       "      <td>0</td>\n",
       "    </tr>\n",
       "    <tr>\n",
       "      <th>MortalityFem</th>\n",
       "      <td>0</td>\n",
       "    </tr>\n",
       "    <tr>\n",
       "      <th>MortalityMale</th>\n",
       "      <td>0</td>\n",
       "    </tr>\n",
       "    <tr>\n",
       "      <th>BirthRate</th>\n",
       "      <td>0</td>\n",
       "    </tr>\n",
       "    <tr>\n",
       "      <th>DeathRate</th>\n",
       "      <td>0</td>\n",
       "    </tr>\n",
       "    <tr>\n",
       "      <th>MortalityInfant</th>\n",
       "      <td>0</td>\n",
       "    </tr>\n",
       "    <tr>\n",
       "      <th>LifeExp</th>\n",
       "      <td>0</td>\n",
       "    </tr>\n",
       "    <tr>\n",
       "      <th>FertilityRate</th>\n",
       "      <td>0</td>\n",
       "    </tr>\n",
       "    <tr>\n",
       "      <th>PopGrowth(%)</th>\n",
       "      <td>0</td>\n",
       "    </tr>\n",
       "    <tr>\n",
       "      <th>UrbanPop(%)</th>\n",
       "      <td>0</td>\n",
       "    </tr>\n",
       "  </tbody>\n",
       "</table>\n",
       "</div>"
      ],
      "text/plain": [
       "                 missing\n",
       "Country Groups         0\n",
       "FDI                    0\n",
       "AccessElec             0\n",
       "Renewable(%)           0\n",
       "CO2                    0\n",
       "CPI                    2\n",
       "Cellphone              0\n",
       "Internet(%)            0\n",
       "Exports(%)             0\n",
       "Imports(%)             0\n",
       "GDP($)                 0\n",
       "MortalityFem           0\n",
       "MortalityMale          0\n",
       "BirthRate              0\n",
       "DeathRate              0\n",
       "MortalityInfant        0\n",
       "LifeExp                0\n",
       "FertilityRate          0\n",
       "PopGrowth(%)           0\n",
       "UrbanPop(%)            0"
      ]
     },
     "execution_count": 6,
     "metadata": {},
     "output_type": "execute_result"
    }
   ],
   "source": [
    "# Count missing values\n",
    "missing = df.isnull().sum()\n",
    "relevant_missing = pd.DataFrame(missing, columns=[\"missing\"])\n",
    "relevant_missing\n"
   ]
  },
  {
   "cell_type": "markdown",
   "metadata": {
    "id": "WZUDNW8jIrTT"
   },
   "source": [
    "It is often useful to determine the type of each variable. We see that we are working predominantly with continuous variables:"
   ]
  },
  {
   "cell_type": "code",
   "execution_count": 7,
   "metadata": {
    "id": "xpYcw1sxIrTU",
    "outputId": "f1d6223c-27ab-4285-b6f4-464560fee63d"
   },
   "outputs": [
    {
     "name": "stdout",
     "output_type": "stream",
     "text": [
      "<class 'pandas.core.frame.DataFrame'>\n",
      "Index: 44 entries, CEB to WLD\n",
      "Data columns (total 20 columns):\n",
      " #   Column           Non-Null Count  Dtype  \n",
      "---  ------           --------------  -----  \n",
      " 0   Country Groups   44 non-null     object \n",
      " 1   FDI              44 non-null     float64\n",
      " 2   AccessElec       44 non-null     float64\n",
      " 3   Renewable(%)     44 non-null     float64\n",
      " 4   CO2              44 non-null     float64\n",
      " 5   CPI              42 non-null     float64\n",
      " 6   Cellphone        44 non-null     float64\n",
      " 7   Internet(%)      44 non-null     float64\n",
      " 8   Exports(%)       44 non-null     float64\n",
      " 9   Imports(%)       44 non-null     float64\n",
      " 10  GDP($)           44 non-null     float64\n",
      " 11  MortalityFem     44 non-null     float64\n",
      " 12  MortalityMale    44 non-null     float64\n",
      " 13  BirthRate        44 non-null     float64\n",
      " 14  DeathRate        44 non-null     float64\n",
      " 15  MortalityInfant  44 non-null     float64\n",
      " 16  LifeExp          44 non-null     float64\n",
      " 17  FertilityRate    44 non-null     float64\n",
      " 18  PopGrowth(%)     44 non-null     float64\n",
      " 19  UrbanPop(%)      44 non-null     float64\n",
      "dtypes: float64(19), object(1)\n",
      "memory usage: 7.2+ KB\n"
     ]
    }
   ],
   "source": [
    "# Examine types\n",
    "df.info()"
   ]
  },
  {
   "cell_type": "markdown",
   "metadata": {
    "id": "DPHGLOQvIrTV"
   },
   "source": [
    "To visualise the distribution of the observations for each feature, we plot a histogram using Pandas's ```.hist()``` function:\n",
    "* Documentation: https://pandas.pydata.org/pandas-docs/stable/reference/api/pandas.DataFrame.hist.html"
   ]
  },
  {
   "cell_type": "code",
   "execution_count": 8,
   "metadata": {
    "id": "EYvIkli2IrTW",
    "outputId": "84aee50a-3cbc-4bf4-ab31-a7cc689c9e0c"
   },
   "outputs": [
    {
     "data": {
      "image/png": "[encoded data removed]",
      "text/plain": [
       "<Figure size 1500x1000 with 20 Axes>"
      ]
     },
     "metadata": {},
     "output_type": "display_data"
    }
   ],
   "source": [
    "# Plot histograms\n",
    "histograms = df.hist(color='black', grid=False, figsize=(15, 10)) #This can also be done for each column individually by calling hist on that column\n",
    "plt.tight_layout()\n",
    "plt.show()\n"
   ]
  },
  {
   "cell_type": "markdown",
   "metadata": {
    "id": "7epEJm2qIrTX"
   },
   "source": [
    "We can compile the tabular information we have so far into a single dataframe:"
   ]
  },
  {
   "cell_type": "code",
   "execution_count": 9,
   "metadata": {
    "id": "wA2wjJfLIrTX",
    "outputId": "c907ebe6-1d59-43ce-dfb2-9a6f1101f452"
   },
   "outputs": [
    {
     "data": {
      "text/html": [
       "<div>\n",
       "<style scoped>\n",
       "    .dataframe tbody tr th:only-of-type {\n",
       "        vertical-align: middle;\n",
       "    }\n",
       "\n",
       "    .dataframe tbody tr th {\n",
       "        vertical-align: top;\n",
       "    }\n",
       "\n",
       "    .dataframe thead th {\n",
       "        text-align: right;\n",
       "    }\n",
       "</style>\n",
       "<table border=\"1\" class=\"dataframe\">\n",
       "  <thead>\n",
       "    <tr style=\"text-align: right;\">\n",
       "      <th></th>\n",
       "      <th>missing</th>\n",
       "      <th>mean</th>\n",
       "      <th>std</th>\n",
       "      <th>min</th>\n",
       "      <th>max</th>\n",
       "    </tr>\n",
       "  </thead>\n",
       "  <tbody>\n",
       "    <tr>\n",
       "      <th>Country Groups</th>\n",
       "      <td>0</td>\n",
       "      <td>NaN</td>\n",
       "      <td>NaN</td>\n",
       "      <td>NaN</td>\n",
       "      <td>NaN</td>\n",
       "    </tr>\n",
       "    <tr>\n",
       "      <th>FDI</th>\n",
       "      <td>0</td>\n",
       "      <td>3.39</td>\n",
       "      <td>2.11</td>\n",
       "      <td>0.27</td>\n",
       "      <td>11.56</td>\n",
       "    </tr>\n",
       "    <tr>\n",
       "      <th>AccessElec</th>\n",
       "      <td>0</td>\n",
       "      <td>76.63</td>\n",
       "      <td>26.00</td>\n",
       "      <td>23.09</td>\n",
       "      <td>100.00</td>\n",
       "    </tr>\n",
       "    <tr>\n",
       "      <th>Renewable(%)</th>\n",
       "      <td>0</td>\n",
       "      <td>30.77</td>\n",
       "      <td>25.55</td>\n",
       "      <td>1.50</td>\n",
       "      <td>81.01</td>\n",
       "    </tr>\n",
       "    <tr>\n",
       "      <th>CO2</th>\n",
       "      <td>0</td>\n",
       "      <td>4.14</td>\n",
       "      <td>3.21</td>\n",
       "      <td>0.22</td>\n",
       "      <td>11.56</td>\n",
       "    </tr>\n",
       "    <tr>\n",
       "      <th>CPI</th>\n",
       "      <td>2</td>\n",
       "      <td>3.89</td>\n",
       "      <td>1.29</td>\n",
       "      <td>1.53</td>\n",
       "      <td>7.58</td>\n",
       "    </tr>\n",
       "    <tr>\n",
       "      <th>Cellphone</th>\n",
       "      <td>0</td>\n",
       "      <td>76.06</td>\n",
       "      <td>28.70</td>\n",
       "      <td>26.56</td>\n",
       "      <td>122.83</td>\n",
       "    </tr>\n",
       "    <tr>\n",
       "      <th>Internet(%)</th>\n",
       "      <td>0</td>\n",
       "      <td>27.39</td>\n",
       "      <td>20.54</td>\n",
       "      <td>3.25</td>\n",
       "      <td>72.29</td>\n",
       "    </tr>\n",
       "    <tr>\n",
       "      <th>Exports(%)</th>\n",
       "      <td>0</td>\n",
       "      <td>31.90</td>\n",
       "      <td>9.44</td>\n",
       "      <td>19.93</td>\n",
       "      <td>62.17</td>\n",
       "    </tr>\n",
       "    <tr>\n",
       "      <th>Imports(%)</th>\n",
       "      <td>0</td>\n",
       "      <td>32.98</td>\n",
       "      <td>11.35</td>\n",
       "      <td>20.10</td>\n",
       "      <td>80.99</td>\n",
       "    </tr>\n",
       "    <tr>\n",
       "      <th>GDP($)</th>\n",
       "      <td>0</td>\n",
       "      <td>8864.04</td>\n",
       "      <td>11163.53</td>\n",
       "      <td>522.03</td>\n",
       "      <td>39449.30</td>\n",
       "    </tr>\n",
       "    <tr>\n",
       "      <th>MortalityFem</th>\n",
       "      <td>0</td>\n",
       "      <td>149.35</td>\n",
       "      <td>76.51</td>\n",
       "      <td>50.16</td>\n",
       "      <td>302.16</td>\n",
       "    </tr>\n",
       "    <tr>\n",
       "      <th>MortalityMale</th>\n",
       "      <td>0</td>\n",
       "      <td>213.08</td>\n",
       "      <td>72.75</td>\n",
       "      <td>101.46</td>\n",
       "      <td>356.62</td>\n",
       "    </tr>\n",
       "    <tr>\n",
       "      <th>BirthRate</th>\n",
       "      <td>0</td>\n",
       "      <td>22.80</td>\n",
       "      <td>9.50</td>\n",
       "      <td>10.36</td>\n",
       "      <td>40.75</td>\n",
       "    </tr>\n",
       "    <tr>\n",
       "      <th>DeathRate</th>\n",
       "      <td>0</td>\n",
       "      <td>8.30</td>\n",
       "      <td>1.81</td>\n",
       "      <td>5.17</td>\n",
       "      <td>11.43</td>\n",
       "    </tr>\n",
       "    <tr>\n",
       "      <th>MortalityInfant</th>\n",
       "      <td>0</td>\n",
       "      <td>33.49</td>\n",
       "      <td>21.33</td>\n",
       "      <td>3.48</td>\n",
       "      <td>70.22</td>\n",
       "    </tr>\n",
       "    <tr>\n",
       "      <th>LifeExp</th>\n",
       "      <td>0</td>\n",
       "      <td>69.19</td>\n",
       "      <td>6.94</td>\n",
       "      <td>56.94</td>\n",
       "      <td>80.75</td>\n",
       "    </tr>\n",
       "    <tr>\n",
       "      <th>FertilityRate</th>\n",
       "      <td>0</td>\n",
       "      <td>2.96</td>\n",
       "      <td>1.29</td>\n",
       "      <td>1.47</td>\n",
       "      <td>5.61</td>\n",
       "    </tr>\n",
       "    <tr>\n",
       "      <th>PopGrowth(%)</th>\n",
       "      <td>0</td>\n",
       "      <td>1.41</td>\n",
       "      <td>0.92</td>\n",
       "      <td>-0.36</td>\n",
       "      <td>2.94</td>\n",
       "    </tr>\n",
       "    <tr>\n",
       "      <th>UrbanPop(%)</th>\n",
       "      <td>0</td>\n",
       "      <td>51.31</td>\n",
       "      <td>16.82</td>\n",
       "      <td>22.30</td>\n",
       "      <td>80.02</td>\n",
       "    </tr>\n",
       "  </tbody>\n",
       "</table>\n",
       "</div>"
      ],
      "text/plain": [
       "                 missing    mean      std    min      max\n",
       "Country Groups         0     NaN      NaN    NaN      NaN\n",
       "FDI                    0    3.39     2.11   0.27    11.56\n",
       "AccessElec             0   76.63    26.00  23.09   100.00\n",
       "Renewable(%)           0   30.77    25.55   1.50    81.01\n",
       "CO2                    0    4.14     3.21   0.22    11.56\n",
       "CPI                    2    3.89     1.29   1.53     7.58\n",
       "Cellphone              0   76.06    28.70  26.56   122.83\n",
       "Internet(%)            0   27.39    20.54   3.25    72.29\n",
       "Exports(%)             0   31.90     9.44  19.93    62.17\n",
       "Imports(%)             0   32.98    11.35  20.10    80.99\n",
       "GDP($)                 0 8864.04 11163.53 522.03 39449.30\n",
       "MortalityFem           0  149.35    76.51  50.16   302.16\n",
       "MortalityMale          0  213.08    72.75 101.46   356.62\n",
       "BirthRate              0   22.80     9.50  10.36    40.75\n",
       "DeathRate              0    8.30     1.81   5.17    11.43\n",
       "MortalityInfant        0   33.49    21.33   3.48    70.22\n",
       "LifeExp                0   69.19     6.94  56.94    80.75\n",
       "FertilityRate          0    2.96     1.29   1.47     5.61\n",
       "PopGrowth(%)           0    1.41     0.92  -0.36     2.94\n",
       "UrbanPop(%)            0   51.31    16.82  22.30    80.02"
      ]
     },
     "execution_count": 9,
     "metadata": {},
     "output_type": "execute_result"
    }
   ],
   "source": [
    "# Create summary table\n",
    "frames = [relevant_missing,selected_stats]\n",
    "summary = pd.concat(frames, axis=1)\n",
    "summary.rename(columns = {0:\"missing\"}, inplace = True)\n",
    "summary.to_csv('summary.csv', index=True) \n",
    "summary\n",
    "\n",
    "\n"
   ]
  },
  {
   "cell_type": "markdown",
   "metadata": {
    "id": "vqADgRR9IrTZ"
   },
   "source": [
    "At first glance, the GDP per capita variable stands out as having a mean and standard deviation which is dramatically higher than the other variables. This makes sense as most of the other variables are percentages or ratios per 1000 people while GDP per Capita is in US$. This indicates that scaling the data will be useful to keep the GDP per capita from impacting the analysis disproportionately."
   ]
  },
  {
   "cell_type": "markdown",
   "metadata": {
    "id": "5Lv70jXwIrTa"
   },
   "source": [
    "## Missing values - KNN imputation"
   ]
  },
  {
   "cell_type": "markdown",
   "metadata": {
    "id": "O7iMHwdIIrTb"
   },
   "source": [
    "The simplest way to handle missing values is to remove the affected row from the dataset. This can be done with the ```dropna``` function from Pandas. However, sometimes when there are a large number of missing values it would be detrimental to our machine learning algorithm to remove too many samples. In cases like this we can \"impute\" values (estimate given the other samples) to replace them. A simplistic version of this would be to use the ```fillna``` function and to compute the mean of the other samples. A slightly better approach might be to use KNN to estimate the value. KNN will investigate other observations with similar values to all the other variables. After the identification, it will get the mean of the consumer prices of these observations and impute the value as the value of consumer price for Bermuda."
   ]
  },
  {
   "cell_type": "code",
   "execution_count": 10,
   "metadata": {
    "id": "2LEfU5hrIrTc",
    "outputId": "ee59cf31-0426-4bd4-f832-e6d376f7e847"
   },
   "outputs": [
    {
     "name": "stdout",
     "output_type": "stream",
     "text": [
      "         Original  Imputed\n",
      "Country                   \n",
      "CEB          1.84     1.84\n",
      "CSS          3.25     3.25\n",
      "EAP          3.79     3.79\n",
      "EAR          4.58     4.58\n",
      "EAS          3.25     3.25\n",
      "ECA          6.28     6.28\n",
      "ECS          2.39     2.39\n",
      "EMU          1.53     1.53\n",
      "EUU          1.67     1.67\n",
      "FCS          3.62     3.62\n",
      "FSM           NaN     3.89\n",
      "HIC          1.96     1.96\n",
      "HPC          4.70     4.70\n",
      "IBD          4.34     4.34\n",
      "IBT          4.41     4.41\n",
      "IDA          4.55     4.55\n",
      "IDB          3.44     3.44\n",
      "IDX          5.05     5.05\n",
      "LAC          3.86     3.86\n",
      "LCN          3.56     3.56\n",
      "LDC          5.98     5.98\n",
      "LIC          3.67     3.67\n",
      "LMC          6.00     6.00\n",
      "LMY          4.46     4.46\n",
      "LTE          3.29     3.29\n",
      "MEA          3.91     3.91\n",
      "MIC          4.58     4.58\n",
      "MNA          3.99     3.99\n",
      "OED          1.81     1.81\n",
      "OSS          3.17     3.17\n",
      "PRE          3.98     3.98\n",
      "PSS           NaN     3.89\n",
      "PST          2.19     2.19\n",
      "SSA          4.26     4.26\n",
      "SSF          4.12     4.12\n",
      "SST          3.23     3.23\n",
      "TEA          3.79     3.79\n",
      "TEC          6.14     6.14\n",
      "TLA          3.71     3.71\n",
      "TMN          4.19     4.19\n",
      "TSA          7.58     7.58\n",
      "TSS          4.12     4.12\n",
      "UMC          3.62     3.62\n",
      "WLD          3.49     3.49\n"
     ]
    }
   ],
   "source": [
    "from sklearn.impute import KNNImputer #You will need the scikit-learn version >= 0.22\n",
    "\n",
    "X = df[\"CPI\"].values.reshape(-1,1) # rehape because we are looking at a single feature\n",
    "imputer = KNNImputer(n_neighbors=5, weights='uniform', metric='nan_euclidean')\n",
    "imputer.fit(X)\n",
    "X_imputed = imputer.transform(X).squeeze()\n",
    "\n",
    "comparison = pd.DataFrame(columns=[\"Original\",\"Imputed\"])\n",
    "comparison[\"Original\"] = df[\"CPI\"].squeeze()\n",
    "comparison[\"Imputed\"] = X_imputed.squeeze()\n",
    "print(comparison)\n"
   ]
  },
  {
   "cell_type": "code",
   "execution_count": 11,
   "metadata": {
    "id": "SF4MtZ_8IrTd",
    "outputId": "89fdb0c7-09a3-46da-be0a-97bcb9240710"
   },
   "outputs": [
    {
     "data": {
      "text/html": [
       "<div>\n",
       "<style scoped>\n",
       "    .dataframe tbody tr th:only-of-type {\n",
       "        vertical-align: middle;\n",
       "    }\n",
       "\n",
       "    .dataframe tbody tr th {\n",
       "        vertical-align: top;\n",
       "    }\n",
       "\n",
       "    .dataframe thead th {\n",
       "        text-align: right;\n",
       "    }\n",
       "</style>\n",
       "<table border=\"1\" class=\"dataframe\">\n",
       "  <thead>\n",
       "    <tr style=\"text-align: right;\">\n",
       "      <th></th>\n",
       "      <th>missing</th>\n",
       "    </tr>\n",
       "  </thead>\n",
       "  <tbody>\n",
       "    <tr>\n",
       "      <th>Country Groups</th>\n",
       "      <td>0</td>\n",
       "    </tr>\n",
       "    <tr>\n",
       "      <th>FDI</th>\n",
       "      <td>0</td>\n",
       "    </tr>\n",
       "    <tr>\n",
       "      <th>AccessElec</th>\n",
       "      <td>0</td>\n",
       "    </tr>\n",
       "    <tr>\n",
       "      <th>Renewable(%)</th>\n",
       "      <td>0</td>\n",
       "    </tr>\n",
       "    <tr>\n",
       "      <th>CO2</th>\n",
       "      <td>0</td>\n",
       "    </tr>\n",
       "    <tr>\n",
       "      <th>CPI</th>\n",
       "      <td>0</td>\n",
       "    </tr>\n",
       "    <tr>\n",
       "      <th>Cellphone</th>\n",
       "      <td>0</td>\n",
       "    </tr>\n",
       "    <tr>\n",
       "      <th>Internet(%)</th>\n",
       "      <td>0</td>\n",
       "    </tr>\n",
       "    <tr>\n",
       "      <th>Exports(%)</th>\n",
       "      <td>0</td>\n",
       "    </tr>\n",
       "    <tr>\n",
       "      <th>Imports(%)</th>\n",
       "      <td>0</td>\n",
       "    </tr>\n",
       "    <tr>\n",
       "      <th>GDP($)</th>\n",
       "      <td>0</td>\n",
       "    </tr>\n",
       "    <tr>\n",
       "      <th>MortalityFem</th>\n",
       "      <td>0</td>\n",
       "    </tr>\n",
       "    <tr>\n",
       "      <th>MortalityMale</th>\n",
       "      <td>0</td>\n",
       "    </tr>\n",
       "    <tr>\n",
       "      <th>BirthRate</th>\n",
       "      <td>0</td>\n",
       "    </tr>\n",
       "    <tr>\n",
       "      <th>DeathRate</th>\n",
       "      <td>0</td>\n",
       "    </tr>\n",
       "    <tr>\n",
       "      <th>MortalityInfant</th>\n",
       "      <td>0</td>\n",
       "    </tr>\n",
       "    <tr>\n",
       "      <th>LifeExp</th>\n",
       "      <td>0</td>\n",
       "    </tr>\n",
       "    <tr>\n",
       "      <th>FertilityRate</th>\n",
       "      <td>0</td>\n",
       "    </tr>\n",
       "    <tr>\n",
       "      <th>PopGrowth(%)</th>\n",
       "      <td>0</td>\n",
       "    </tr>\n",
       "    <tr>\n",
       "      <th>UrbanPop(%)</th>\n",
       "      <td>0</td>\n",
       "    </tr>\n",
       "  </tbody>\n",
       "</table>\n",
       "</div>"
      ],
      "text/plain": [
       "                 missing\n",
       "Country Groups         0\n",
       "FDI                    0\n",
       "AccessElec             0\n",
       "Renewable(%)           0\n",
       "CO2                    0\n",
       "CPI                    0\n",
       "Cellphone              0\n",
       "Internet(%)            0\n",
       "Exports(%)             0\n",
       "Imports(%)             0\n",
       "GDP($)                 0\n",
       "MortalityFem           0\n",
       "MortalityMale          0\n",
       "BirthRate              0\n",
       "DeathRate              0\n",
       "MortalityInfant        0\n",
       "LifeExp                0\n",
       "FertilityRate          0\n",
       "PopGrowth(%)           0\n",
       "UrbanPop(%)            0"
      ]
     },
     "execution_count": 11,
     "metadata": {},
     "output_type": "execute_result"
    }
   ],
   "source": [
    "df[\"CPI\"] = X_imputed #replace in dataframe\n",
    "\n",
    "# Count missing values to check that there aren't any\n",
    "missing = df.isnull().sum()\n",
    "relevant_missing = pd.DataFrame(missing, columns=[\"missing\"])\n",
    "relevant_missing"
   ]
  },
  {
   "cell_type": "markdown",
   "metadata": {
    "id": "puzbIahfIrTe"
   },
   "source": [
    "## Correlation Analysis\n",
    "\n",
    "Pandas offers a highly useful function, ``corr``, which allows us to compute correlations between the different columns. The standard correlation coefficient is the Pearson coefficient. It returns a matrix of values. It is often useful to visualise these as a plot. Both Pandas and Seaborn have functions for plotting correlation heatmaps, but Seaborn's offers more adjustabilty. We demonstrate the use of Seaborn's heatmap, using a mask to remove the top triangular half of correlations, as these are repeats."
   ]
  },
  {
   "cell_type": "code",
   "execution_count": 12,
   "metadata": {
    "id": "D6h70eqWIrTe"
   },
   "outputs": [],
   "source": [
    "countries = df.index\n",
    "corr_df = df.drop([\"Country Groups\"],axis=1).corr()\n",
    "labels =corr_df.columns\n",
    "\n",
    "correlations = corr_df.corr()"
   ]
  },
  {
   "cell_type": "code",
   "execution_count": 13,
   "metadata": {
    "id": "z3aii5N8IrTf",
    "outputId": "9942be72-24eb-4502-846c-ddcc9da82370"
   },
   "outputs": [
    {
     "data": {
      "text/plain": [
       "<Axes: >"
      ]
     },
     "execution_count": 13,
     "metadata": {},
     "output_type": "execute_result"
    },
    {
     "data": {
      "image/png": "[encoded data removed]",
      "text/plain": [
       "<Figure size 640x480 with 2 Axes>"
      ]
     },
     "metadata": {},
     "output_type": "display_data"
    }
   ],
   "source": [
    "import seaborn as sns\n",
    "mask_ut=np.triu(np.ones(corr_df.shape)).astype(np.bool)\n",
    "sns.heatmap(corr_df, mask=mask_ut, cmap=\"coolwarm\")\n"
   ]
  },
  {
   "cell_type": "markdown",
   "metadata": {
    "id": "arzKcqhpIrTg"
   },
   "source": [
    "In the plot, there is a linear correlation between strongly correlated variables: those coloured in either dark red or dark blue. Variables which are positively correlated are red: an increase in one corresponds to an increase in the other, while negatively correlated variables are blue: a decrease in one means an increase in the other."
   ]
  },
  {
   "cell_type": "markdown",
   "metadata": {
    "id": "FtbShHcfIrTg"
   },
   "source": [
    "From the correlation plot, it is evident that Foreign Direct Investment (FDI) has a relatively strong positive correlation to imports and exports. Access to electricity is positively correlated to cellphone subscriptions, internet usage, life expectancy and percentage of people who live in urban areas - as well as CO2 emissions! \n",
    "\n",
    "These correlations are intuitive as people who have electricity can use electronics such as phones, urban areas are more likely to have electricity than rural areas and, generally, countries with electricity access are more likely to have better healthcare, thereby increasing life expectancy. The predictors that have a strong negative correlation to electricity are the various mortality rates, the fertility rate and the percentage of renewable energy consumption. \n",
    "\n",
    "The last correlation is interesting as it seems to suggest that countries which have high access to electricity are less likely to use renewable energy. This may point to the fact that countries with high access to electricity historically haven’t needed to invest as heavily in renewable energy infrastructure as they can already provide for their countries’ electricity needs with their existing fossil fuels production techniques. \n",
    "\n",
    "There are other intuitive correlations such as population growth to fertility rates and birth rates. Overall, there are many variables that have strong negative and positive correlations with each other. This makes the data a good candidate for PCA. PCA will be able to reduce variables which encode similar types of differences between countries in a way that requires fewer dimensions.\n"
   ]
  },
  {
   "cell_type": "markdown",
   "metadata": {
    "id": "jcE7JLhJIrTi"
   },
   "source": [
    "## PCA\n",
    "\n",
    "Principal Components Analysis (PCA) is a method for finding the underlying variables (i.e. principal components) that best differentiate the observations by determining the directions along which your data points are most spread out. Since the determination of the principal components is based on finding the direction that maximises the variance, variables with variance that are much higher than the other variables tend to dominate the analysis purely due to their scale. PCA is a dimensionality reduction techinque which is useful when we have a lot of variables, and need to reduce these. \n",
    "\n"
   ]
  },
  {
   "cell_type": "code",
   "execution_count": 14,
   "metadata": {
    "id": "7eStO3hQIrTj",
    "outputId": "f990e668-5f5a-4a05-d0a1-7257f53bbb72"
   },
   "outputs": [
    {
     "data": {
      "text/html": [
       "<div>\n",
       "<style scoped>\n",
       "    .dataframe tbody tr th:only-of-type {\n",
       "        vertical-align: middle;\n",
       "    }\n",
       "\n",
       "    .dataframe tbody tr th {\n",
       "        vertical-align: top;\n",
       "    }\n",
       "\n",
       "    .dataframe thead th {\n",
       "        text-align: right;\n",
       "    }\n",
       "</style>\n",
       "<table border=\"1\" class=\"dataframe\">\n",
       "  <thead>\n",
       "    <tr style=\"text-align: right;\">\n",
       "      <th></th>\n",
       "      <th>0</th>\n",
       "      <th>1</th>\n",
       "      <th>2</th>\n",
       "      <th>3</th>\n",
       "      <th>4</th>\n",
       "      <th>5</th>\n",
       "      <th>6</th>\n",
       "      <th>7</th>\n",
       "      <th>8</th>\n",
       "      <th>9</th>\n",
       "      <th>10</th>\n",
       "      <th>11</th>\n",
       "      <th>12</th>\n",
       "      <th>13</th>\n",
       "      <th>14</th>\n",
       "      <th>15</th>\n",
       "      <th>16</th>\n",
       "      <th>17</th>\n",
       "      <th>18</th>\n",
       "    </tr>\n",
       "  </thead>\n",
       "  <tbody>\n",
       "    <tr>\n",
       "      <th>0</th>\n",
       "      <td>3703.63</td>\n",
       "      <td>-63.21</td>\n",
       "      <td>47.66</td>\n",
       "      <td>20.83</td>\n",
       "      <td>-14.68</td>\n",
       "      <td>22.85</td>\n",
       "      <td>-2.04</td>\n",
       "      <td>6.84</td>\n",
       "      <td>3.12</td>\n",
       "      <td>8.28</td>\n",
       "      <td>1.20</td>\n",
       "      <td>4.01</td>\n",
       "      <td>-0.54</td>\n",
       "      <td>1.12</td>\n",
       "      <td>-0.42</td>\n",
       "      <td>-0.09</td>\n",
       "      <td>0.03</td>\n",
       "      <td>0.05</td>\n",
       "      <td>-0.05</td>\n",
       "    </tr>\n",
       "    <tr>\n",
       "      <th>1</th>\n",
       "      <td>-137.42</td>\n",
       "      <td>-43.51</td>\n",
       "      <td>31.42</td>\n",
       "      <td>24.82</td>\n",
       "      <td>3.93</td>\n",
       "      <td>5.92</td>\n",
       "      <td>-13.86</td>\n",
       "      <td>5.39</td>\n",
       "      <td>1.26</td>\n",
       "      <td>-5.42</td>\n",
       "      <td>-8.31</td>\n",
       "      <td>-1.30</td>\n",
       "      <td>1.40</td>\n",
       "      <td>-0.07</td>\n",
       "      <td>-1.27</td>\n",
       "      <td>0.22</td>\n",
       "      <td>0.08</td>\n",
       "      <td>-0.08</td>\n",
       "      <td>0.02</td>\n",
       "    </tr>\n",
       "    <tr>\n",
       "      <th>2</th>\n",
       "      <td>-4856.02</td>\n",
       "      <td>-127.67</td>\n",
       "      <td>-26.32</td>\n",
       "      <td>-2.97</td>\n",
       "      <td>4.43</td>\n",
       "      <td>4.95</td>\n",
       "      <td>-1.11</td>\n",
       "      <td>7.30</td>\n",
       "      <td>-4.94</td>\n",
       "      <td>-1.16</td>\n",
       "      <td>1.46</td>\n",
       "      <td>0.06</td>\n",
       "      <td>0.10</td>\n",
       "      <td>-0.16</td>\n",
       "      <td>0.36</td>\n",
       "      <td>-0.04</td>\n",
       "      <td>-0.02</td>\n",
       "      <td>-0.03</td>\n",
       "      <td>0.01</td>\n",
       "    </tr>\n",
       "    <tr>\n",
       "      <th>3</th>\n",
       "      <td>-5937.49</td>\n",
       "      <td>-33.57</td>\n",
       "      <td>-3.18</td>\n",
       "      <td>-3.09</td>\n",
       "      <td>2.17</td>\n",
       "      <td>-8.03</td>\n",
       "      <td>-6.00</td>\n",
       "      <td>-3.51</td>\n",
       "      <td>-0.99</td>\n",
       "      <td>-2.60</td>\n",
       "      <td>0.84</td>\n",
       "      <td>-0.04</td>\n",
       "      <td>-1.82</td>\n",
       "      <td>-0.30</td>\n",
       "      <td>-1.02</td>\n",
       "      <td>-0.76</td>\n",
       "      <td>-0.14</td>\n",
       "      <td>-0.01</td>\n",
       "      <td>-0.01</td>\n",
       "    </tr>\n",
       "    <tr>\n",
       "      <th>4</th>\n",
       "      <td>-1188.89</td>\n",
       "      <td>-112.54</td>\n",
       "      <td>-25.93</td>\n",
       "      <td>-0.85</td>\n",
       "      <td>3.97</td>\n",
       "      <td>3.77</td>\n",
       "      <td>-0.11</td>\n",
       "      <td>5.98</td>\n",
       "      <td>-4.43</td>\n",
       "      <td>0.78</td>\n",
       "      <td>1.53</td>\n",
       "      <td>0.45</td>\n",
       "      <td>-0.20</td>\n",
       "      <td>0.34</td>\n",
       "      <td>-0.16</td>\n",
       "      <td>-0.16</td>\n",
       "      <td>0.08</td>\n",
       "      <td>0.02</td>\n",
       "      <td>0.03</td>\n",
       "    </tr>\n",
       "  </tbody>\n",
       "</table>\n",
       "</div>"
      ],
      "text/plain": [
       "        0       1      2     3      4     5      6     7     8     9     10  \\\n",
       "0  3703.63  -63.21  47.66 20.83 -14.68 22.85  -2.04  6.84  3.12  8.28  1.20   \n",
       "1  -137.42  -43.51  31.42 24.82   3.93  5.92 -13.86  5.39  1.26 -5.42 -8.31   \n",
       "2 -4856.02 -127.67 -26.32 -2.97   4.43  4.95  -1.11  7.30 -4.94 -1.16  1.46   \n",
       "3 -5937.49  -33.57  -3.18 -3.09   2.17 -8.03  -6.00 -3.51 -0.99 -2.60  0.84   \n",
       "4 -1188.89 -112.54 -25.93 -0.85   3.97  3.77  -0.11  5.98 -4.43  0.78  1.53   \n",
       "\n",
       "     11    12    13    14    15    16    17    18  \n",
       "0  4.01 -0.54  1.12 -0.42 -0.09  0.03  0.05 -0.05  \n",
       "1 -1.30  1.40 -0.07 -1.27  0.22  0.08 -0.08  0.02  \n",
       "2  0.06  0.10 -0.16  0.36 -0.04 -0.02 -0.03  0.01  \n",
       "3 -0.04 -1.82 -0.30 -1.02 -0.76 -0.14 -0.01 -0.01  \n",
       "4  0.45 -0.20  0.34 -0.16 -0.16  0.08  0.02  0.03  "
      ]
     },
     "execution_count": 14,
     "metadata": {},
     "output_type": "execute_result"
    }
   ],
   "source": [
    "from sklearn.decomposition import PCA #run again if it does not converge the first time\n",
    "\n",
    "np.set_printoptions(precision=2)\n",
    "\n",
    "X = df.drop([\"Country Groups\"],axis=1).values.squeeze()\n",
    "\n",
    "pca = PCA()\n",
    "\n",
    "X_trans = pca.fit_transform(X)\n",
    "\n",
    "df_pca = pd.DataFrame(X_trans)\n",
    "df_pca.head()"
   ]
  },
  {
   "cell_type": "code",
   "execution_count": 15,
   "metadata": {
    "id": "VSzAs_syIrTj",
    "outputId": "637ad059-736d-493e-f086-1fcce5e1f0dd"
   },
   "outputs": [
    {
     "name": "stdout",
     "output_type": "stream",
     "text": [
      "Standard deviation: [1.12e+04 9.02e+01 2.74e+01 1.52e+01 1.12e+01 8.52e+00 6.47e+00 4.84e+00\n",
      " 3.65e+00 2.76e+00 2.48e+00 1.88e+00 9.17e-01 6.75e-01 4.64e-01 2.81e-01\n",
      " 7.33e-02 5.75e-02 3.73e-02]\n"
     ]
    }
   ],
   "source": [
    "std = df_pca.describe().transpose()[\"std\"]\n",
    "print(f\"Standard deviation: {std.values}\")"
   ]
  },
  {
   "cell_type": "code",
   "execution_count": 16,
   "metadata": {
    "id": "QQS5Xl_kIrTk",
    "outputId": "34ae9dd2-e545-4431-c523-3763298caa5a"
   },
   "outputs": [
    {
     "name": "stdout",
     "output_type": "stream",
     "text": [
      "Proportion of Variance Explained: [1.00e+00 6.53e-05 6.01e-06 1.85e-06 1.00e-06 5.82e-07 3.36e-07 1.88e-07\n",
      " 1.07e-07 6.12e-08 4.95e-08 2.82e-08 6.75e-09 3.65e-09 1.73e-09 6.32e-10\n",
      " 4.31e-11 2.65e-11 1.12e-11]\n"
     ]
    }
   ],
   "source": [
    "print(f\"Proportion of Variance Explained: {pca.explained_variance_ratio_}\")"
   ]
  },
  {
   "cell_type": "code",
   "execution_count": 17,
   "metadata": {
    "id": "0u-LxtdXIrTl",
    "outputId": "5b12aee5-ceed-4145-9c54-119b46d19eb1"
   },
   "outputs": [
    {
     "name": "stdout",
     "output_type": "stream",
     "text": [
      "Cumulative Proportion: [1.25e+08 1.25e+08 1.25e+08 1.25e+08 1.25e+08 1.25e+08 1.25e+08 1.25e+08\n",
      " 1.25e+08 1.25e+08 1.25e+08 1.25e+08 1.25e+08 1.25e+08 1.25e+08 1.25e+08\n",
      " 1.25e+08 1.25e+08 1.25e+08]\n"
     ]
    }
   ],
   "source": [
    "print(f\"Cumulative Proportion: {np.cumsum(pca.explained_variance_)}\")"
   ]
  },
  {
   "cell_type": "code",
   "execution_count": 18,
   "metadata": {
    "id": "fH39XjULIrTl"
   },
   "outputs": [],
   "source": [
    "def biplot(score,coeff,labels=None,points=None):\n",
    "    xs = score[:,0]\n",
    "    ys = score[:,1]\n",
    "    n = coeff.shape[0]\n",
    "    scalex = 1.0/(xs.max() - xs.min())\n",
    "    scaley = 1.0/(ys.max() - ys.min())\n",
    "\n",
    "    fig, ax = plt.subplots()    \n",
    "\n",
    "    ax.scatter(xs * scalex,ys * scaley,s=5)\n",
    "\n",
    "    for i in range(0,len(xs)):\n",
    "        txt = countries[i]\n",
    "        ax.annotate(txt, (xs[i]* scalex, ys[i]* scaley))\n",
    "\n",
    "    for i in range(n):\n",
    "        ax.arrow(0, 0, coeff[i,0], coeff[i,1],color = 'r',alpha = 0.5)\n",
    "        if labels is None:\n",
    "            ax.text(coeff[i,0]* 1.15, coeff[i,1] * 1.15, \"Var\"+str(i+1), color = 'green', ha = 'center', va = 'center')\n",
    "        else:\n",
    "            ax.text(coeff[i,0]* 1.15, coeff[i,1] * 1.15, labels[i], color = 'g', ha = 'center', va = 'center')\n",
    " \n",
    "    plt.xlabel(\"PC1\")\n",
    "    plt.ylabel(\"PC2\")\n",
    "    plt.grid()\n",
    "\n",
    "    # Adapted from: https://ostwalprasad.github.io/machine-learning/PCA-using-python.html"
   ]
  },
  {
   "cell_type": "code",
   "execution_count": 19,
   "metadata": {
    "id": "z1niMDKbIrTm",
    "outputId": "4d1114f4-9dc9-4c33-d6d3-9a24cdce8ee8"
   },
   "outputs": [
    {
     "data": {
      "image/png": "[encoded data removed]",
      "text/plain": [
       "<Figure size 640x480 with 1 Axes>"
      ]
     },
     "metadata": {},
     "output_type": "display_data"
    }
   ],
   "source": [
    "biplot(X_trans[:,0:2],np.transpose(pca.components_[0:2, :]),list(labels),list(countries))\n",
    "plt.show()"
   ]
  },
  {
   "cell_type": "markdown",
   "metadata": {
    "id": "Q-1NNFGcIrTn"
   },
   "source": [
    "Each point on a biplot is the projected observation, transformed from the original data. The importance of each feature is indicated by the length of the arrows on the biplot. This corresponds to the magnitude of the values in the eigenvectors. From this biplot, we see that GDP and the mortality rates for males and females are the most important featuresas the arrows to each of these dominate the biplot.\n",
    "\n",
    "This information can also be quantified as follows:"
   ]
  },
  {
   "cell_type": "code",
   "execution_count": 20,
   "metadata": {
    "id": "w7ynKOwYIrTo",
    "outputId": "9420093f-e9c9-4794-a5b1-ac916a968d1e"
   },
   "outputs": [
    {
     "data": {
      "text/html": [
       "<div>\n",
       "<style scoped>\n",
       "    .dataframe tbody tr th:only-of-type {\n",
       "        vertical-align: middle;\n",
       "    }\n",
       "\n",
       "    .dataframe tbody tr th {\n",
       "        vertical-align: top;\n",
       "    }\n",
       "\n",
       "    .dataframe thead th {\n",
       "        text-align: right;\n",
       "    }\n",
       "</style>\n",
       "<table border=\"1\" class=\"dataframe\">\n",
       "  <thead>\n",
       "    <tr style=\"text-align: right;\">\n",
       "      <th></th>\n",
       "      <th>Features</th>\n",
       "      <th>PC1 Importance</th>\n",
       "      <th>PC2 Importance</th>\n",
       "    </tr>\n",
       "  </thead>\n",
       "  <tbody>\n",
       "    <tr>\n",
       "      <th>0</th>\n",
       "      <td>FDI</td>\n",
       "      <td>0.000</td>\n",
       "      <td>0.003</td>\n",
       "    </tr>\n",
       "    <tr>\n",
       "      <th>1</th>\n",
       "      <td>AccessElec</td>\n",
       "      <td>0.001</td>\n",
       "      <td>0.229</td>\n",
       "    </tr>\n",
       "    <tr>\n",
       "      <th>2</th>\n",
       "      <td>Renewable(%)</td>\n",
       "      <td>0.001</td>\n",
       "      <td>0.219</td>\n",
       "    </tr>\n",
       "    <tr>\n",
       "      <th>3</th>\n",
       "      <td>CO2</td>\n",
       "      <td>0.000</td>\n",
       "      <td>0.011</td>\n",
       "    </tr>\n",
       "    <tr>\n",
       "      <th>4</th>\n",
       "      <td>CPI</td>\n",
       "      <td>0.000</td>\n",
       "      <td>0.000</td>\n",
       "    </tr>\n",
       "    <tr>\n",
       "      <th>5</th>\n",
       "      <td>Cellphone</td>\n",
       "      <td>0.002</td>\n",
       "      <td>0.135</td>\n",
       "    </tr>\n",
       "    <tr>\n",
       "      <th>6</th>\n",
       "      <td>Internet(%)</td>\n",
       "      <td>0.002</td>\n",
       "      <td>0.069</td>\n",
       "    </tr>\n",
       "    <tr>\n",
       "      <th>7</th>\n",
       "      <td>Exports(%)</td>\n",
       "      <td>0.000</td>\n",
       "      <td>0.008</td>\n",
       "    </tr>\n",
       "    <tr>\n",
       "      <th>8</th>\n",
       "      <td>Imports(%)</td>\n",
       "      <td>0.000</td>\n",
       "      <td>0.010</td>\n",
       "    </tr>\n",
       "    <tr>\n",
       "      <th>9</th>\n",
       "      <td>GDP($)</td>\n",
       "      <td>1.000</td>\n",
       "      <td>0.006</td>\n",
       "    </tr>\n",
       "    <tr>\n",
       "      <th>10</th>\n",
       "      <td>MortalityFem</td>\n",
       "      <td>0.004</td>\n",
       "      <td>0.678</td>\n",
       "    </tr>\n",
       "    <tr>\n",
       "      <th>11</th>\n",
       "      <td>MortalityMale</td>\n",
       "      <td>0.004</td>\n",
       "      <td>0.615</td>\n",
       "    </tr>\n",
       "    <tr>\n",
       "      <th>12</th>\n",
       "      <td>BirthRate</td>\n",
       "      <td>0.001</td>\n",
       "      <td>0.074</td>\n",
       "    </tr>\n",
       "    <tr>\n",
       "      <th>13</th>\n",
       "      <td>DeathRate</td>\n",
       "      <td>0.000</td>\n",
       "      <td>0.015</td>\n",
       "    </tr>\n",
       "    <tr>\n",
       "      <th>14</th>\n",
       "      <td>MortalityInfant</td>\n",
       "      <td>0.001</td>\n",
       "      <td>0.160</td>\n",
       "    </tr>\n",
       "    <tr>\n",
       "      <th>15</th>\n",
       "      <td>LifeExp</td>\n",
       "      <td>0.000</td>\n",
       "      <td>0.053</td>\n",
       "    </tr>\n",
       "    <tr>\n",
       "      <th>16</th>\n",
       "      <td>FertilityRate</td>\n",
       "      <td>0.000</td>\n",
       "      <td>0.011</td>\n",
       "    </tr>\n",
       "    <tr>\n",
       "      <th>17</th>\n",
       "      <td>PopGrowth(%)</td>\n",
       "      <td>0.000</td>\n",
       "      <td>0.007</td>\n",
       "    </tr>\n",
       "    <tr>\n",
       "      <th>18</th>\n",
       "      <td>UrbanPop(%)</td>\n",
       "      <td>0.001</td>\n",
       "      <td>0.066</td>\n",
       "    </tr>\n",
       "  </tbody>\n",
       "</table>\n",
       "</div>"
      ],
      "text/plain": [
       "           Features  PC1 Importance  PC2 Importance\n",
       "0               FDI           0.000           0.003\n",
       "1        AccessElec           0.001           0.229\n",
       "2      Renewable(%)           0.001           0.219\n",
       "3               CO2           0.000           0.011\n",
       "4               CPI           0.000           0.000\n",
       "5         Cellphone           0.002           0.135\n",
       "6       Internet(%)           0.002           0.069\n",
       "7        Exports(%)           0.000           0.008\n",
       "8        Imports(%)           0.000           0.010\n",
       "9            GDP($)           1.000           0.006\n",
       "10     MortalityFem           0.004           0.678\n",
       "11    MortalityMale           0.004           0.615\n",
       "12        BirthRate           0.001           0.074\n",
       "13        DeathRate           0.000           0.015\n",
       "14  MortalityInfant           0.001           0.160\n",
       "15          LifeExp           0.000           0.053\n",
       "16    FertilityRate           0.000           0.011\n",
       "17     PopGrowth(%)           0.000           0.007\n",
       "18      UrbanPop(%)           0.001           0.066"
      ]
     },
     "execution_count": 20,
     "metadata": {},
     "output_type": "execute_result"
    }
   ],
   "source": [
    "# Feature importance\n",
    "pd.set_option('display.float_format', lambda x: '%.3f' % x) #change precision to see more decimal places\n",
    "\n",
    "pc1 = abs( pca.components_[0] ) #components x features - access at index 0 to get the first component\n",
    "pc2 = abs( pca.components_[1] )\n",
    "\n",
    "feat_df = pd.DataFrame()\n",
    "feat_df[\"Features\"] = list(labels)\n",
    "feat_df[\"PC1 Importance\"] = pc1\n",
    "feat_df[\"PC2 Importance\"] = pc2\n",
    "feat_df"
   ]
  },
  {
   "cell_type": "markdown",
   "metadata": {
    "id": "_Tzp0hd4IrTo"
   },
   "source": [
    "\n",
    "We see that the GDP has by far the highest importance in the first principle component, while several features are relatively important for the second component: mortality for males and females being the most important at around 0.6 These observations agree with those deduced from the biplot. If we refer to our summarised statistics from earlier on, the mean values for these features are much larger numbers than those for the other features. It is possible that because of this, these features 'swamp' the others, which results in them being ignored."
   ]
  },
  {
   "cell_type": "markdown",
   "metadata": {
    "id": "L8HPwulPIrTp"
   },
   "source": [
    "### Standardised data\n",
    "\n",
    "We standardise the data so that some features do not swamp the others."
   ]
  },
  {
   "cell_type": "code",
   "execution_count": 21,
   "metadata": {
    "id": "0lxFFmmpIrTq",
    "outputId": "b31f888d-73ae-4191-c629-8f5c4bc6897f"
   },
   "outputs": [
    {
     "data": {
      "text/html": [
       "<div>\n",
       "<style scoped>\n",
       "    .dataframe tbody tr th:only-of-type {\n",
       "        vertical-align: middle;\n",
       "    }\n",
       "\n",
       "    .dataframe tbody tr th {\n",
       "        vertical-align: top;\n",
       "    }\n",
       "\n",
       "    .dataframe thead th {\n",
       "        text-align: right;\n",
       "    }\n",
       "</style>\n",
       "<table border=\"1\" class=\"dataframe\">\n",
       "  <thead>\n",
       "    <tr style=\"text-align: right;\">\n",
       "      <th></th>\n",
       "      <th>0</th>\n",
       "      <th>1</th>\n",
       "      <th>2</th>\n",
       "      <th>3</th>\n",
       "      <th>4</th>\n",
       "      <th>5</th>\n",
       "      <th>6</th>\n",
       "      <th>7</th>\n",
       "      <th>8</th>\n",
       "      <th>9</th>\n",
       "      <th>10</th>\n",
       "      <th>11</th>\n",
       "      <th>12</th>\n",
       "      <th>13</th>\n",
       "      <th>14</th>\n",
       "      <th>15</th>\n",
       "      <th>16</th>\n",
       "      <th>17</th>\n",
       "      <th>18</th>\n",
       "    </tr>\n",
       "  </thead>\n",
       "  <tbody>\n",
       "    <tr>\n",
       "      <th>0</th>\n",
       "      <td>3.979</td>\n",
       "      <td>2.361</td>\n",
       "      <td>0.298</td>\n",
       "      <td>2.163</td>\n",
       "      <td>1.599</td>\n",
       "      <td>-1.138</td>\n",
       "      <td>-0.652</td>\n",
       "      <td>-1.054</td>\n",
       "      <td>0.751</td>\n",
       "      <td>-0.248</td>\n",
       "      <td>0.120</td>\n",
       "      <td>0.236</td>\n",
       "      <td>0.271</td>\n",
       "      <td>0.009</td>\n",
       "      <td>0.089</td>\n",
       "      <td>-0.009</td>\n",
       "      <td>0.017</td>\n",
       "      <td>0.021</td>\n",
       "      <td>0.004</td>\n",
       "    </tr>\n",
       "    <tr>\n",
       "      <th>1</th>\n",
       "      <td>2.292</td>\n",
       "      <td>1.472</td>\n",
       "      <td>-1.289</td>\n",
       "      <td>0.155</td>\n",
       "      <td>0.877</td>\n",
       "      <td>-0.458</td>\n",
       "      <td>-0.343</td>\n",
       "      <td>0.523</td>\n",
       "      <td>-0.462</td>\n",
       "      <td>-0.495</td>\n",
       "      <td>0.998</td>\n",
       "      <td>-0.160</td>\n",
       "      <td>-0.158</td>\n",
       "      <td>-0.124</td>\n",
       "      <td>-0.090</td>\n",
       "      <td>-0.056</td>\n",
       "      <td>-0.011</td>\n",
       "      <td>-0.005</td>\n",
       "      <td>0.010</td>\n",
       "    </tr>\n",
       "    <tr>\n",
       "      <th>2</th>\n",
       "      <td>1.860</td>\n",
       "      <td>-1.020</td>\n",
       "      <td>-0.991</td>\n",
       "      <td>-0.177</td>\n",
       "      <td>-0.074</td>\n",
       "      <td>0.418</td>\n",
       "      <td>-1.006</td>\n",
       "      <td>-0.000</td>\n",
       "      <td>-0.016</td>\n",
       "      <td>-0.245</td>\n",
       "      <td>-0.199</td>\n",
       "      <td>0.022</td>\n",
       "      <td>-0.059</td>\n",
       "      <td>0.100</td>\n",
       "      <td>-0.042</td>\n",
       "      <td>0.004</td>\n",
       "      <td>-0.010</td>\n",
       "      <td>-0.004</td>\n",
       "      <td>-0.003</td>\n",
       "    </tr>\n",
       "    <tr>\n",
       "      <th>3</th>\n",
       "      <td>-0.772</td>\n",
       "      <td>-1.474</td>\n",
       "      <td>-0.546</td>\n",
       "      <td>-0.146</td>\n",
       "      <td>0.045</td>\n",
       "      <td>-0.279</td>\n",
       "      <td>-0.250</td>\n",
       "      <td>0.118</td>\n",
       "      <td>0.111</td>\n",
       "      <td>0.262</td>\n",
       "      <td>0.179</td>\n",
       "      <td>0.063</td>\n",
       "      <td>-0.226</td>\n",
       "      <td>-0.117</td>\n",
       "      <td>0.193</td>\n",
       "      <td>0.054</td>\n",
       "      <td>-0.042</td>\n",
       "      <td>-0.011</td>\n",
       "      <td>-0.020</td>\n",
       "    </tr>\n",
       "    <tr>\n",
       "      <th>4</th>\n",
       "      <td>2.365</td>\n",
       "      <td>-0.774</td>\n",
       "      <td>-0.667</td>\n",
       "      <td>0.160</td>\n",
       "      <td>-0.298</td>\n",
       "      <td>0.057</td>\n",
       "      <td>-0.938</td>\n",
       "      <td>0.080</td>\n",
       "      <td>0.052</td>\n",
       "      <td>-0.217</td>\n",
       "      <td>-0.144</td>\n",
       "      <td>0.150</td>\n",
       "      <td>-0.006</td>\n",
       "      <td>0.044</td>\n",
       "      <td>0.033</td>\n",
       "      <td>0.011</td>\n",
       "      <td>-0.003</td>\n",
       "      <td>-0.017</td>\n",
       "      <td>0.012</td>\n",
       "    </tr>\n",
       "  </tbody>\n",
       "</table>\n",
       "</div>"
      ],
      "text/plain": [
       "      0      1      2      3      4      5      6      7      8      9   \\\n",
       "0  3.979  2.361  0.298  2.163  1.599 -1.138 -0.652 -1.054  0.751 -0.248   \n",
       "1  2.292  1.472 -1.289  0.155  0.877 -0.458 -0.343  0.523 -0.462 -0.495   \n",
       "2  1.860 -1.020 -0.991 -0.177 -0.074  0.418 -1.006 -0.000 -0.016 -0.245   \n",
       "3 -0.772 -1.474 -0.546 -0.146  0.045 -0.279 -0.250  0.118  0.111  0.262   \n",
       "4  2.365 -0.774 -0.667  0.160 -0.298  0.057 -0.938  0.080  0.052 -0.217   \n",
       "\n",
       "      10     11     12     13     14     15     16     17     18  \n",
       "0  0.120  0.236  0.271  0.009  0.089 -0.009  0.017  0.021  0.004  \n",
       "1  0.998 -0.160 -0.158 -0.124 -0.090 -0.056 -0.011 -0.005  0.010  \n",
       "2 -0.199  0.022 -0.059  0.100 -0.042  0.004 -0.010 -0.004 -0.003  \n",
       "3  0.179  0.063 -0.226 -0.117  0.193  0.054 -0.042 -0.011 -0.020  \n",
       "4 -0.144  0.150 -0.006  0.044  0.033  0.011 -0.003 -0.017  0.012  "
      ]
     },
     "execution_count": 21,
     "metadata": {},
     "output_type": "execute_result"
    }
   ],
   "source": [
    "from sklearn.preprocessing import StandardScaler\n",
    "X_std = StandardScaler().fit_transform(X)\n",
    "\n",
    "std_pca = PCA()\n",
    "X_std_trans = std_pca.fit_transform(X_std)\n",
    "\n",
    "df_std_pca = pd.DataFrame(X_std_trans)\n",
    "df_std_pca.head()"
   ]
  },
  {
   "cell_type": "code",
   "execution_count": 22,
   "metadata": {
    "id": "_fPsiTmUIrTq",
    "outputId": "baf197f3-21a8-4fd3-aa4c-9a838663d437"
   },
   "outputs": [
    {
     "data": {
      "image/png": "[encoded data removed]",
      "text/plain": [
       "<Figure size 640x480 with 1 Axes>"
      ]
     },
     "metadata": {},
     "output_type": "display_data"
    }
   ],
   "source": [
    "biplot(X_std_trans[:,0:2],np.transpose(std_pca.components_[0:2, :]),list(labels))\n",
    "plt.show()"
   ]
  },
  {
   "cell_type": "markdown",
   "metadata": {
    "id": "yKipB7jbIrTr"
   },
   "source": [
    "We see that the standardised data results in far more variables being utilised to explain the variance, as the large numbers no longer dominate it. We also see that the the different features cluster together in groups."
   ]
  },
  {
   "cell_type": "code",
   "execution_count": 23,
   "metadata": {
    "id": "KuOAhnOFIrTr",
    "outputId": "9d8a8d7b-b369-453d-c70f-08fbbb586273"
   },
   "outputs": [
    {
     "data": {
      "text/html": [
       "<div>\n",
       "<style scoped>\n",
       "    .dataframe tbody tr th:only-of-type {\n",
       "        vertical-align: middle;\n",
       "    }\n",
       "\n",
       "    .dataframe tbody tr th {\n",
       "        vertical-align: top;\n",
       "    }\n",
       "\n",
       "    .dataframe thead th {\n",
       "        text-align: right;\n",
       "    }\n",
       "</style>\n",
       "<table border=\"1\" class=\"dataframe\">\n",
       "  <thead>\n",
       "    <tr style=\"text-align: right;\">\n",
       "      <th></th>\n",
       "      <th>Features</th>\n",
       "      <th>PC1 Importance</th>\n",
       "      <th>PC2 Importance</th>\n",
       "    </tr>\n",
       "  </thead>\n",
       "  <tbody>\n",
       "    <tr>\n",
       "      <th>0</th>\n",
       "      <td>FDI</td>\n",
       "      <td>0.003</td>\n",
       "      <td>0.444</td>\n",
       "    </tr>\n",
       "    <tr>\n",
       "      <th>1</th>\n",
       "      <td>AccessElec</td>\n",
       "      <td>0.273</td>\n",
       "      <td>0.131</td>\n",
       "    </tr>\n",
       "    <tr>\n",
       "      <th>2</th>\n",
       "      <td>Renewable(%)</td>\n",
       "      <td>0.258</td>\n",
       "      <td>0.058</td>\n",
       "    </tr>\n",
       "    <tr>\n",
       "      <th>3</th>\n",
       "      <td>CO2</td>\n",
       "      <td>0.251</td>\n",
       "      <td>0.187</td>\n",
       "    </tr>\n",
       "    <tr>\n",
       "      <th>4</th>\n",
       "      <td>CPI</td>\n",
       "      <td>0.152</td>\n",
       "      <td>0.332</td>\n",
       "    </tr>\n",
       "    <tr>\n",
       "      <th>5</th>\n",
       "      <td>Cellphone</td>\n",
       "      <td>0.253</td>\n",
       "      <td>0.106</td>\n",
       "    </tr>\n",
       "    <tr>\n",
       "      <th>6</th>\n",
       "      <td>Internet(%)</td>\n",
       "      <td>0.265</td>\n",
       "      <td>0.137</td>\n",
       "    </tr>\n",
       "    <tr>\n",
       "      <th>7</th>\n",
       "      <td>Exports(%)</td>\n",
       "      <td>0.048</td>\n",
       "      <td>0.549</td>\n",
       "    </tr>\n",
       "    <tr>\n",
       "      <th>8</th>\n",
       "      <td>Imports(%)</td>\n",
       "      <td>0.015</td>\n",
       "      <td>0.345</td>\n",
       "    </tr>\n",
       "    <tr>\n",
       "      <th>9</th>\n",
       "      <td>GDP($)</td>\n",
       "      <td>0.214</td>\n",
       "      <td>0.212</td>\n",
       "    </tr>\n",
       "    <tr>\n",
       "      <th>10</th>\n",
       "      <td>MortalityFem</td>\n",
       "      <td>0.277</td>\n",
       "      <td>0.142</td>\n",
       "    </tr>\n",
       "    <tr>\n",
       "      <th>11</th>\n",
       "      <td>MortalityMale</td>\n",
       "      <td>0.259</td>\n",
       "      <td>0.122</td>\n",
       "    </tr>\n",
       "    <tr>\n",
       "      <th>12</th>\n",
       "      <td>BirthRate</td>\n",
       "      <td>0.280</td>\n",
       "      <td>0.059</td>\n",
       "    </tr>\n",
       "    <tr>\n",
       "      <th>13</th>\n",
       "      <td>DeathRate</td>\n",
       "      <td>0.095</td>\n",
       "      <td>0.288</td>\n",
       "    </tr>\n",
       "    <tr>\n",
       "      <th>14</th>\n",
       "      <td>MortalityInfant</td>\n",
       "      <td>0.282</td>\n",
       "      <td>0.011</td>\n",
       "    </tr>\n",
       "    <tr>\n",
       "      <th>15</th>\n",
       "      <td>LifeExp</td>\n",
       "      <td>0.285</td>\n",
       "      <td>0.057</td>\n",
       "    </tr>\n",
       "    <tr>\n",
       "      <th>16</th>\n",
       "      <td>FertilityRate</td>\n",
       "      <td>0.276</td>\n",
       "      <td>0.102</td>\n",
       "    </tr>\n",
       "    <tr>\n",
       "      <th>17</th>\n",
       "      <td>PopGrowth(%)</td>\n",
       "      <td>0.248</td>\n",
       "      <td>0.079</td>\n",
       "    </tr>\n",
       "    <tr>\n",
       "      <th>18</th>\n",
       "      <td>UrbanPop(%)</td>\n",
       "      <td>0.243</td>\n",
       "      <td>0.032</td>\n",
       "    </tr>\n",
       "  </tbody>\n",
       "</table>\n",
       "</div>"
      ],
      "text/plain": [
       "           Features  PC1 Importance  PC2 Importance\n",
       "0               FDI           0.003           0.444\n",
       "1        AccessElec           0.273           0.131\n",
       "2      Renewable(%)           0.258           0.058\n",
       "3               CO2           0.251           0.187\n",
       "4               CPI           0.152           0.332\n",
       "5         Cellphone           0.253           0.106\n",
       "6       Internet(%)           0.265           0.137\n",
       "7        Exports(%)           0.048           0.549\n",
       "8        Imports(%)           0.015           0.345\n",
       "9            GDP($)           0.214           0.212\n",
       "10     MortalityFem           0.277           0.142\n",
       "11    MortalityMale           0.259           0.122\n",
       "12        BirthRate           0.280           0.059\n",
       "13        DeathRate           0.095           0.288\n",
       "14  MortalityInfant           0.282           0.011\n",
       "15          LifeExp           0.285           0.057\n",
       "16    FertilityRate           0.276           0.102\n",
       "17     PopGrowth(%)           0.248           0.079\n",
       "18      UrbanPop(%)           0.243           0.032"
      ]
     },
     "execution_count": 23,
     "metadata": {},
     "output_type": "execute_result"
    }
   ],
   "source": [
    "# Feature importance\n",
    "\n",
    "pc1 = abs( std_pca.components_[0] ) #components x features - access at index 0 to get the first component\n",
    "pc2 = abs( std_pca.components_[1] )\n",
    "\n",
    "feat_df = pd.DataFrame()\n",
    "feat_df[\"Features\"] = list(labels)\n",
    "feat_df[\"PC1 Importance\"] = pc1\n",
    "feat_df[\"PC2 Importance\"] = pc2\n",
    "feat_df"
   ]
  },
  {
   "cell_type": "markdown",
   "metadata": {
    "id": "zviSVPjqIrTs"
   },
   "source": [
    "Inspecting the feature importance now, we see that most of the variables contribute fairly evenly, with only some with low importance."
   ]
  },
  {
   "cell_type": "code",
   "execution_count": 24,
   "metadata": {
    "id": "KNoPBsQKIrUL",
    "outputId": "b8791238-5d5c-49c7-8f4b-af80cc235afa"
   },
   "outputs": [
    {
     "data": {
      "text/plain": [
       "Text(0.5, 1.0, 'Cumulative Explained Variance')"
      ]
     },
     "execution_count": 24,
     "metadata": {},
     "output_type": "execute_result"
    },
    {
     "data": {
      "image/png": "[encoded data removed]",
      "text/plain": [
       "<Figure size 640x480 with 1 Axes>"
      ]
     },
     "metadata": {},
     "output_type": "display_data"
    }
   ],
   "source": [
    "# Cumulative variance plot\n",
    "plt.ylabel('Explained variance')\n",
    "plt.xlabel('Components')\n",
    "plt.plot(range(1,len(std_pca.explained_variance_ratio_ )+1),\n",
    "         np.cumsum(std_pca.explained_variance_ratio_),\n",
    "         c='red')\n",
    "plt.title(\"Cumulative Explained Variance\")"
   ]
  },
  {
   "cell_type": "code",
   "execution_count": 25,
   "metadata": {
    "id": "ul7FjIv-IrUM",
    "outputId": "669bacf1-ad57-4b98-da1b-ae768144424a"
   },
   "outputs": [
    {
     "data": {
      "image/png": "[encoded data removed]",
      "text/plain": [
       "<Figure size 640x480 with 1 Axes>"
      ]
     },
     "metadata": {},
     "output_type": "display_data"
    }
   ],
   "source": [
    "# Scree plot\n",
    "plt.plot(std_pca.explained_variance_ratio_)\n",
    "plt.xlabel('number of components')\n",
    "plt.ylabel('cumulative explained variance')\n",
    "plt.title(\"Scree plot\")\n",
    "plt.show()"
   ]
  },
  {
   "cell_type": "markdown",
   "metadata": {
    "id": "hQDclhTyIrUN"
   },
   "source": [
    "The first 5 principal components together explain around 90% of the variance. We can therefore use them to perform cluster analysis. This is what we refer to as dimensionality reduction. We began with 19 variables and now we have 5 variables explaining most of the variability. \n"
   ]
  },
  {
   "cell_type": "code",
   "execution_count": 26,
   "metadata": {
    "id": "sKY1fr-oIrUN",
    "outputId": "8ffb9727-342f-4276-9c26-24742c0dd89a"
   },
   "outputs": [
    {
     "data": {
      "text/html": [
       "<div>\n",
       "<style scoped>\n",
       "    .dataframe tbody tr th:only-of-type {\n",
       "        vertical-align: middle;\n",
       "    }\n",
       "\n",
       "    .dataframe tbody tr th {\n",
       "        vertical-align: top;\n",
       "    }\n",
       "\n",
       "    .dataframe thead th {\n",
       "        text-align: right;\n",
       "    }\n",
       "</style>\n",
       "<table border=\"1\" class=\"dataframe\">\n",
       "  <thead>\n",
       "    <tr style=\"text-align: right;\">\n",
       "      <th></th>\n",
       "      <th>0</th>\n",
       "      <th>1</th>\n",
       "      <th>2</th>\n",
       "      <th>3</th>\n",
       "      <th>4</th>\n",
       "    </tr>\n",
       "    <tr>\n",
       "      <th>Country</th>\n",
       "      <th></th>\n",
       "      <th></th>\n",
       "      <th></th>\n",
       "      <th></th>\n",
       "      <th></th>\n",
       "    </tr>\n",
       "  </thead>\n",
       "  <tbody>\n",
       "    <tr>\n",
       "      <th>CEB</th>\n",
       "      <td>3.979</td>\n",
       "      <td>2.361</td>\n",
       "      <td>0.298</td>\n",
       "      <td>2.163</td>\n",
       "      <td>1.599</td>\n",
       "    </tr>\n",
       "    <tr>\n",
       "      <th>CSS</th>\n",
       "      <td>2.292</td>\n",
       "      <td>1.472</td>\n",
       "      <td>-1.289</td>\n",
       "      <td>0.155</td>\n",
       "      <td>0.877</td>\n",
       "    </tr>\n",
       "    <tr>\n",
       "      <th>EAP</th>\n",
       "      <td>1.860</td>\n",
       "      <td>-1.020</td>\n",
       "      <td>-0.991</td>\n",
       "      <td>-0.177</td>\n",
       "      <td>-0.074</td>\n",
       "    </tr>\n",
       "    <tr>\n",
       "      <th>EAR</th>\n",
       "      <td>-0.772</td>\n",
       "      <td>-1.474</td>\n",
       "      <td>-0.546</td>\n",
       "      <td>-0.146</td>\n",
       "      <td>0.045</td>\n",
       "    </tr>\n",
       "    <tr>\n",
       "      <th>EAS</th>\n",
       "      <td>2.365</td>\n",
       "      <td>-0.774</td>\n",
       "      <td>-0.667</td>\n",
       "      <td>0.160</td>\n",
       "      <td>-0.298</td>\n",
       "    </tr>\n",
       "  </tbody>\n",
       "</table>\n",
       "</div>"
      ],
      "text/plain": [
       "             0      1      2      3      4\n",
       "Country                                   \n",
       "CEB      3.979  2.361  0.298  2.163  1.599\n",
       "CSS      2.292  1.472 -1.289  0.155  0.877\n",
       "EAP      1.860 -1.020 -0.991 -0.177 -0.074\n",
       "EAR     -0.772 -1.474 -0.546 -0.146  0.045\n",
       "EAS      2.365 -0.774 -0.667  0.160 -0.298"
      ]
     },
     "execution_count": 26,
     "metadata": {},
     "output_type": "execute_result"
    }
   ],
   "source": [
    "pca_df = pd.DataFrame(X_std_trans[:,0:5], index = df.index)\n",
    "pca_df.head()"
   ]
  },
  {
   "cell_type": "markdown",
   "metadata": {
    "id": "zZUqRxchIrUO"
   },
   "source": [
    "## Hierarchical clustering\n"
   ]
  },
  {
   "cell_type": "code",
   "execution_count": 27,
   "metadata": {
    "id": "i0Zi4W4vIrUO",
    "outputId": "776b7496-0994-4256-ad1b-2370753b2dff"
   },
   "outputs": [
    {
     "data": {
      "image/png": "[encoded data removed]",
      "text/plain": [
       "<Figure size 640x480 with 3 Axes>"
      ]
     },
     "metadata": {},
     "output_type": "display_data"
    }
   ],
   "source": [
    "from scipy.cluster.hierarchy import dendrogram, linkage\n",
    "from sklearn.cluster import AgglomerativeClustering\n",
    "\n",
    "model = AgglomerativeClustering(distance_threshold=0, n_clusters=None)\n",
    "model = model.fit(pca_df)\n",
    "\n",
    "fig, (ax1, ax2, ax3) = plt.subplots(1, 3)\n",
    "fig.suptitle('Hierarchical Clustering Dendrogram')\n",
    "ax1.set_title(\"Single\")\n",
    "dendrogram(linkage(pca_df, method='single'), labels=pca_df.index, ax=ax1) #change method: eg. single, average, complete...\n",
    "ax2.set_title(\"Average\")\n",
    "dendrogram(linkage(pca_df, method='average'), labels=pca_df.index, ax=ax2)\n",
    "ax3.set_title(\"Complete\")\n",
    "dendrogram(linkage(pca_df, method='complete'), labels=pca_df.index, ax=ax3)\n",
    "plt.show()"
   ]
  },
  {
   "cell_type": "code",
   "execution_count": 28,
   "metadata": {
    "id": "Sglf2Tj2IrUc",
    "outputId": "1f324b04-84b3-4f2d-a8cf-96a9370bf996"
   },
   "outputs": [
    {
     "data": {
      "image/png": "[encoded data removed]",
      "text/plain": [
       "<Figure size 640x480 with 1 Axes>"
      ]
     },
     "metadata": {},
     "output_type": "display_data"
    }
   ],
   "source": [
    "plt.title(\"Complete linkage\")\n",
    "dendrogram(linkage(pca_df, method='complete'), labels=pca_df.index)\n",
    "plt.show()"
   ]
  },
  {
   "cell_type": "markdown",
   "metadata": {
    "id": "QtaSzdLgIrUd"
   },
   "source": [
    "### K-means clustering\n",
    "\n",
    "K-means is a very popular clustering partitioning algorithm that is fast and efficient and scales well for large datasets. It is an iterative process, so observations can switch between clusters while the algorithm runs until it converges at a local optimum. This method is not robust when it comes to noise data and outliers and is not suitable for clusters with non-convex shapes. Another drawback with K-means is the necessity of specifying K in advance.\n",
    "\n",
    "For our analysis, it seems that the shape of clusters is likely to be regular based on the PCA biplot. K will be set to 3. A visualisation of the clusters is shown in the figure below.\n"
   ]
  },
  {
   "cell_type": "code",
   "execution_count": 29,
   "metadata": {
    "id": "iXXJSkaYIrUe",
    "outputId": "5bef5b06-4369-4abb-aaf5-0d79444c1270"
   },
   "outputs": [
    {
     "name": "stderr",
     "output_type": "stream",
     "text": [
      "C:\\Users\\USER-PC\\AppData\\Local\\Temp\\ipykernel_20208\\2491021271.py:25: UserWarning: No artists with labels found to put in legend.  Note that artists whose label start with an underscore are ignored when legend() is called with no argument.\n",
      "  ax.legend()\n"
     ]
    },
    {
     "data": {
      "text/plain": [
       "<matplotlib.legend.Legend at 0x28f6c676110>"
      ]
     },
     "execution_count": 29,
     "metadata": {},
     "output_type": "execute_result"
    },
    {
     "data": {
      "image/png": "[encoded data removed]",
      "text/plain": [
       "<Figure size 640x480 with 1 Axes>"
      ]
     },
     "metadata": {},
     "output_type": "display_data"
    }
   ],
   "source": [
    "from sklearn.cluster import KMeans\n",
    "\n",
    "# We extract the first two components\n",
    "x = X_std_trans[:,0]\n",
    "y = X_std_trans[:,1]\n",
    "\n",
    "# Fit k-means\n",
    "k=3\n",
    "kmeans = KMeans(n_clusters=k, init='k-means++', random_state=42)\n",
    "cluster_labels = kmeans.fit_predict(pca_df)\n",
    "cent = kmeans.cluster_centers_\n",
    "\n",
    "# Plot clusters\n",
    "fig, ax = plt.subplots()\n",
    "colours = 'rbgy'\n",
    "for i in range(0,k):\n",
    "    ax.scatter(x[cluster_labels == i],y[cluster_labels == i],c = colours[i]) \n",
    "\n",
    "for i in range(0,len(x)):\n",
    "        txt = countries[i]\n",
    "        ax.annotate(txt, (x[i], y[i]))\n",
    "ax.set_title(\"K-Means cluster plot\")\n",
    "ax.set_xlabel(\"Dim 2\")\n",
    "ax.set_ylabel(\"Dim 1\")\n",
    "ax.legend()"
   ]
  },
  {
   "cell_type": "code",
   "execution_count": 30,
   "metadata": {
    "id": "GA1cWeZOIrUf",
    "outputId": "a66ea101-6df0-41e3-aef6-18ee309c471d"
   },
   "outputs": [
    {
     "name": "stdout",
     "output_type": "stream",
     "text": [
      "Group 0: ['Fragile and conflict affected situations', 'Heavily indebted poor countries (HIPC)', 'IDA total', 'IDA blend', 'IDA only', 'Least developed countries: UN classification', 'Low income', 'Pre-demographic dividend', 'Sub-Saharan Africa (excluding high income)', 'Sub-Saharan Africa', 'Sub-Saharan Africa (IDA & IBRD countries)']\n",
      "\n",
      "\n",
      "Group 1: ['Caribbean small states', 'East Asia & Pacific (excluding high income)', 'Early-demographic dividend', 'East Asia & Pacific', 'Europe & Central Asia (excluding high income)', 'Micronesia, Fed. Sts.', 'IBRD only', 'IDA & IBRD total', 'Latin America & Caribbean (excluding high income)', 'Latin America & Caribbean', 'Lower middle income', 'Low & middle income', 'Late-demographic dividend', 'Middle East & North Africa', 'Middle income', 'Middle East & North Africa (excluding high income)', 'Other small states', 'Pacific island small states', 'Small states', 'East Asia & Pacific (IDA & IBRD countries)', 'Europe & Central Asia (IDA & IBRD countries)', 'Latin America & the Caribbean (IDA & IBRD countries)', 'Middle East & North Africa (IDA & IBRD countries)', 'South Asia (IDA & IBRD)', 'Upper middle income', 'World']\n",
      "\n",
      "\n",
      "Group 2: ['Central Europe and the Baltics', 'Europe & Central Asia', 'Euro area', 'European Union', 'High income', 'OECD members', 'Post-demographic dividend']\n",
      "\n",
      "\n"
     ]
    }
   ],
   "source": [
    "# Groups - translate to readable names\n",
    "clusters = pd.DataFrame()\n",
    "\n",
    "group0_indices = np.argwhere(cluster_labels==0).transpose()[0]\n",
    "group1_indices = np.argwhere(cluster_labels==1).transpose()[0]\n",
    "group2_indices = np.argwhere(cluster_labels==2).transpose()[0]\n",
    "\n",
    "group0 = np.array(countries)[group0_indices]\n",
    "group1 = np.array(countries)[group1_indices]\n",
    "group2 = np.array(countries)[group2_indices]\n",
    "\n",
    "\n",
    "print(\"Group 0: {}\\n\\n\".format([df.loc[x][\"Country Groups\"] for x in group0]))\n",
    "print(\"Group 1: {}\\n\\n\".format([df.loc[x][\"Country Groups\"] for x in group1]))\n",
    "print(\"Group 2: {}\\n\\n\".format([df.loc[x][\"Country Groups\"] for x in group2]))\n",
    "\n"
   ]
  }
 ],
 "metadata": {
  "colab": {
   "provenance": []
  },
  "kernelspec": {
   "display_name": "Python 3",
   "language": "python",
   "name": "python3"
  },
  "language_info": {
   "codemirror_mode": {
    "name": "ipython",
    "version": 3
   },
   "file_extension": ".py",
   "mimetype": "text/x-python",
   "name": "python",
   "nbconvert_exporter": "python",
   "pygments_lexer": "ipython3",
   "version": "3.10.0"
  }
 },
 "nbformat": 4,
 "nbformat_minor": 0
}
