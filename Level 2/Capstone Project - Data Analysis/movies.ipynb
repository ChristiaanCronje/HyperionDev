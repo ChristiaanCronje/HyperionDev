{
 "cells": [
  {
   "attachments": {},
   "cell_type": "markdown",
   "metadata": {
    "id": "7EpdDShRzOkL"
   },
   "source": [
    "Exploratory data analysis (EDA) is a crucial component of data science which allows you to understand the basics of what your data looks like and what kinds of questions might be answered. For this task, we are going to clean, sanitise and explore our data. Using the movies dataset, complete the steps outlined in this notebook by writing code in the cells."
   ]
  },
  {
   "cell_type": "code",
   "execution_count": 2,
   "metadata": {
    "id": "ARURmm3ezOkQ"
   },
   "outputs": [],
   "source": [
    "# Import libraries\n",
    "\n",
    "import numpy as np\n",
    "import pandas as pd\n",
    "import seaborn as sns\n",
    "import ast, json\n",
    "\n",
    "from datetime import datetime\n",
    "import matplotlib.pyplot as plt\n",
    "%matplotlib inline"
   ]
  },
  {
   "cell_type": "code",
   "execution_count": 3,
   "metadata": {
    "id": "h2rUQqYrzOkT"
   },
   "outputs": [],
   "source": [
    "#### Load the movies dataset \n",
    "movies_df = pd.read_csv('movies.csv',delimiter = ',', skipinitialspace=True)"
   ]
  },
  {
   "attachments": {},
   "cell_type": "markdown",
   "metadata": {
    "id": "01Qo282bzOkU"
   },
   "source": [
    "### Data Cleansing\n",
    "#### Clean the data\n",
    "\n",
    "Identify columns that are redundant or unnecessary. It is always easier to make your decisions based on data which is relevant and concise. Remove the following columns `['homepage', 'keywords', 'original_language', 'original_title', 'overview', 'production_companies', 'status', 'tagline']` from the data set as they will not be used in the analysis."
   ]
  },
  {
   "cell_type": "code",
   "execution_count": 4,
   "metadata": {
    "id": "OteozQdbzOkV"
   },
   "outputs": [],
   "source": [
    "columns_to_remove = ['homepage', 'keywords', 'original_language', 'original_title', 'overview', 'production_companies', 'status', 'tagline']\n",
    "\n",
    "movies_df = movies_df.drop(columns=columns_to_remove)"
   ]
  },
  {
   "attachments": {},
   "cell_type": "markdown",
   "metadata": {
    "id": "aLURlpwJzOkW"
   },
   "source": [
    "#### Remove any duplicate rows"
   ]
  },
  {
   "cell_type": "code",
   "execution_count": 5,
   "metadata": {
    "id": "TZGtp5YhzOkX"
   },
   "outputs": [],
   "source": [
    "movies_df = movies_df.drop_duplicates()"
   ]
  },
  {
   "attachments": {},
   "cell_type": "markdown",
   "metadata": {
    "id": "-FZGXFbezOkY"
   },
   "source": [
    "#### Remove rows with missing data \n",
    "\n",
    "Some movies in the database have zero budget or zero revenue which implies that their values have not been recorded or some information is missing. Discard such entries from the dataframe."
   ]
  },
  {
   "cell_type": "code",
   "execution_count": 6,
   "metadata": {
    "id": "gYkKl6FTzOkZ"
   },
   "outputs": [],
   "source": [
    "movies_df = movies_df[movies_df['revenue'] != 0]\n",
    "movies_df = movies_df[movies_df['budget'] != 0]"
   ]
  },
  {
   "attachments": {},
   "cell_type": "markdown",
   "metadata": {
    "id": "42IlCC8dzOka"
   },
   "source": [
    "#### Change data types\n",
    "To manipulate the columns easily, it is important that we make use of the python objects. Change the release date column into `DateTime` format and extract the year from the date. This will help us in analysing yearly data."
   ]
  },
  {
   "cell_type": "code",
   "execution_count": 7,
   "metadata": {
    "id": "8e9j1-oqzOka"
   },
   "outputs": [],
   "source": [
    "movies_df['release_date'] = pd.to_datetime(movies_df['release_date'])\n",
    "movies_df['release_year'] = movies_df['release_date'].dt.year"
   ]
  },
  {
   "attachments": {},
   "cell_type": "markdown",
   "metadata": {
    "id": "qDjwMOU9zOkb"
   },
   "source": [
    "Change budget and revenue columns to a integer data type using numpy’s `int64` method."
   ]
  },
  {
   "cell_type": "code",
   "execution_count": 8,
   "metadata": {
    "id": "p3y-4LIszOkb"
   },
   "outputs": [],
   "source": [
    "movies_df['budget'] = movies_df['budget'].astype(np.int64)\n",
    "movies_df['revenue'] = movies_df['revenue'].astype(np.int64)"
   ]
  },
  {
   "attachments": {},
   "cell_type": "markdown",
   "metadata": {
    "id": "qV8nwsWHzOkb"
   },
   "source": [
    "On checking the dataset, we see that `genres`, `production_countries`, `spoken_languages` are in the JSON format which will make it difficult to manipulate the dataframe. The `parse_col_json function` flattens these columns into a format that can be easily interpreted."
   ]
  },
  {
   "cell_type": "code",
   "execution_count": 9,
   "metadata": {},
   "outputs": [],
   "source": [
    "# Convert from JSON format to a list of strings\n",
    "def parse_col_json(column, key):\n",
    "    \"\"\"\n",
    "    Args:\n",
    "        column: string\n",
    "            name of the column to be processed.\n",
    "        key: string\n",
    "            name of the dictionary key which needs to be extracted\n",
    "    \"\"\"\n",
    "    for index,i in zip(movies_df.index, movies_df[column].apply(json.loads)):\n",
    "        list1=[]\n",
    "        for j in range(len(i)):\n",
    "            list1.append((i[j][key]))# the key 'name' contains the name of the genre\n",
    "        movies_df.loc[index, column] = str(list1)\n",
    "    \n",
    "# Flatten data in columns\n",
    "parse_col_json('genres', 'name')\n",
    "parse_col_json('production_countries', 'name')\n",
    "parse_col_json('spoken_languages', 'name')\n"
   ]
  },
  {
   "cell_type": "code",
   "execution_count": 10,
   "metadata": {},
   "outputs": [
    {
     "data": {
      "text/html": [
       "<div>\n",
       "<style scoped>\n",
       "    .dataframe tbody tr th:only-of-type {\n",
       "        vertical-align: middle;\n",
       "    }\n",
       "\n",
       "    .dataframe tbody tr th {\n",
       "        vertical-align: top;\n",
       "    }\n",
       "\n",
       "    .dataframe thead th {\n",
       "        text-align: right;\n",
       "    }\n",
       "</style>\n",
       "<table border=\"1\" class=\"dataframe\">\n",
       "  <thead>\n",
       "    <tr style=\"text-align: right;\">\n",
       "      <th></th>\n",
       "      <th>budget</th>\n",
       "      <th>genres</th>\n",
       "      <th>id</th>\n",
       "      <th>popularity</th>\n",
       "      <th>production_countries</th>\n",
       "      <th>release_date</th>\n",
       "      <th>revenue</th>\n",
       "      <th>runtime</th>\n",
       "      <th>spoken_languages</th>\n",
       "      <th>title</th>\n",
       "      <th>vote_average</th>\n",
       "      <th>vote_count</th>\n",
       "      <th>release_year</th>\n",
       "    </tr>\n",
       "  </thead>\n",
       "  <tbody>\n",
       "    <tr>\n",
       "      <th>344</th>\n",
       "      <td>100000000</td>\n",
       "      <td>['Action', 'Thriller']</td>\n",
       "      <td>44048</td>\n",
       "      <td>37.698465</td>\n",
       "      <td>['United States of America']</td>\n",
       "      <td>2010-11-04</td>\n",
       "      <td>167805466</td>\n",
       "      <td>98.0</td>\n",
       "      <td>['English']</td>\n",
       "      <td>Unstoppable</td>\n",
       "      <td>6.3</td>\n",
       "      <td>1165</td>\n",
       "      <td>2010</td>\n",
       "    </tr>\n",
       "  </tbody>\n",
       "</table>\n",
       "</div>"
      ],
      "text/plain": [
       "        budget                  genres     id  popularity  \\\n",
       "344  100000000  ['Action', 'Thriller']  44048   37.698465   \n",
       "\n",
       "             production_countries release_date    revenue  runtime  \\\n",
       "344  ['United States of America']   2010-11-04  167805466     98.0   \n",
       "\n",
       "    spoken_languages        title  vote_average  vote_count  release_year  \n",
       "344      ['English']  Unstoppable           6.3        1165          2010  "
      ]
     },
     "execution_count": 10,
     "metadata": {},
     "output_type": "execute_result"
    }
   ],
   "source": [
    "# Inspect flattened data\n",
    "movies_df.sample(1)"
   ]
  },
  {
   "attachments": {},
   "cell_type": "markdown",
   "metadata": {
    "id": "RXqfAA-FtCuG"
   },
   "source": [
    "### Finding Certain Genres\n",
    "Locate all movies in the \"Action\" genre. "
   ]
  },
  {
   "cell_type": "code",
   "execution_count": 11,
   "metadata": {},
   "outputs": [],
   "source": [
    "# Create a dataframe with all the movies in the \"Action\" genre\n",
    "def is_action_movie(genre_list):\n",
    "    return 'Action' in genre_list\n",
    "\n",
    "action_movies_df = movies_df[movies_df['genres'].apply(is_action_movie)]"
   ]
  },
  {
   "attachments": {},
   "cell_type": "markdown",
   "metadata": {
    "id": "IdqN08kXzOkd"
   },
   "source": [
    "### Now onto the exploration\n",
    "\n",
    "#### Identify relationships between variables (features)\n",
    "\n",
    "The main goal here is to identify and create relationships that can help you formulate ideas. We have defined questions to help you identify some relationships to explore."
   ]
  },
  {
   "attachments": {},
   "cell_type": "markdown",
   "metadata": {
    "id": "9Doy1MMezOkd"
   },
   "source": [
    "#### Which are the 5 most expensive movies? \n",
    "\n",
    "How do the most expensive and cheapest movies compare? Exploring the most expensive movies highlights if some movies are worth the money spent on them based on their performance and revenue generated."
   ]
  },
  {
   "cell_type": "code",
   "execution_count": 12,
   "metadata": {
    "id": "iKQswodgzOkd"
   },
   "outputs": [
    {
     "data": {
      "text/html": [
       "<div>\n",
       "<style scoped>\n",
       "    .dataframe tbody tr th:only-of-type {\n",
       "        vertical-align: middle;\n",
       "    }\n",
       "\n",
       "    .dataframe tbody tr th {\n",
       "        vertical-align: top;\n",
       "    }\n",
       "\n",
       "    .dataframe thead th {\n",
       "        text-align: right;\n",
       "    }\n",
       "</style>\n",
       "<table border=\"1\" class=\"dataframe\">\n",
       "  <thead>\n",
       "    <tr style=\"text-align: right;\">\n",
       "      <th></th>\n",
       "      <th>budget</th>\n",
       "      <th>genres</th>\n",
       "      <th>id</th>\n",
       "      <th>popularity</th>\n",
       "      <th>production_countries</th>\n",
       "      <th>release_date</th>\n",
       "      <th>revenue</th>\n",
       "      <th>runtime</th>\n",
       "      <th>spoken_languages</th>\n",
       "      <th>title</th>\n",
       "      <th>vote_average</th>\n",
       "      <th>vote_count</th>\n",
       "      <th>release_year</th>\n",
       "    </tr>\n",
       "  </thead>\n",
       "  <tbody>\n",
       "    <tr>\n",
       "      <th>17</th>\n",
       "      <td>380000000</td>\n",
       "      <td>['Adventure', 'Action', 'Fantasy']</td>\n",
       "      <td>1865</td>\n",
       "      <td>135.413856</td>\n",
       "      <td>['United States of America']</td>\n",
       "      <td>2011-05-14</td>\n",
       "      <td>1045713802</td>\n",
       "      <td>136.0</td>\n",
       "      <td>['English', 'Español']</td>\n",
       "      <td>Pirates of the Caribbean: On Stranger Tides</td>\n",
       "      <td>6.4</td>\n",
       "      <td>4948</td>\n",
       "      <td>2011</td>\n",
       "    </tr>\n",
       "    <tr>\n",
       "      <th>1</th>\n",
       "      <td>300000000</td>\n",
       "      <td>['Adventure', 'Fantasy', 'Action']</td>\n",
       "      <td>285</td>\n",
       "      <td>139.082615</td>\n",
       "      <td>['United States of America']</td>\n",
       "      <td>2007-05-19</td>\n",
       "      <td>961000000</td>\n",
       "      <td>169.0</td>\n",
       "      <td>['English']</td>\n",
       "      <td>Pirates of the Caribbean: At World's End</td>\n",
       "      <td>6.9</td>\n",
       "      <td>4500</td>\n",
       "      <td>2007</td>\n",
       "    </tr>\n",
       "    <tr>\n",
       "      <th>7</th>\n",
       "      <td>280000000</td>\n",
       "      <td>['Action', 'Adventure', 'Science Fiction']</td>\n",
       "      <td>99861</td>\n",
       "      <td>134.279229</td>\n",
       "      <td>['United States of America']</td>\n",
       "      <td>2015-04-22</td>\n",
       "      <td>1405403694</td>\n",
       "      <td>141.0</td>\n",
       "      <td>['English']</td>\n",
       "      <td>Avengers: Age of Ultron</td>\n",
       "      <td>7.3</td>\n",
       "      <td>6767</td>\n",
       "      <td>2015</td>\n",
       "    </tr>\n",
       "    <tr>\n",
       "      <th>10</th>\n",
       "      <td>270000000</td>\n",
       "      <td>['Adventure', 'Fantasy', 'Action', 'Science Fi...</td>\n",
       "      <td>1452</td>\n",
       "      <td>57.925623</td>\n",
       "      <td>['United States of America']</td>\n",
       "      <td>2006-06-28</td>\n",
       "      <td>391081192</td>\n",
       "      <td>154.0</td>\n",
       "      <td>['English', 'Français', 'Deutsch']</td>\n",
       "      <td>Superman Returns</td>\n",
       "      <td>5.4</td>\n",
       "      <td>1400</td>\n",
       "      <td>2006</td>\n",
       "    </tr>\n",
       "    <tr>\n",
       "      <th>6</th>\n",
       "      <td>260000000</td>\n",
       "      <td>['Animation', 'Family']</td>\n",
       "      <td>38757</td>\n",
       "      <td>48.681969</td>\n",
       "      <td>['United States of America']</td>\n",
       "      <td>2010-11-24</td>\n",
       "      <td>591794936</td>\n",
       "      <td>100.0</td>\n",
       "      <td>['English']</td>\n",
       "      <td>Tangled</td>\n",
       "      <td>7.4</td>\n",
       "      <td>3330</td>\n",
       "      <td>2010</td>\n",
       "    </tr>\n",
       "  </tbody>\n",
       "</table>\n",
       "</div>"
      ],
      "text/plain": [
       "       budget                                             genres     id  \\\n",
       "17  380000000                 ['Adventure', 'Action', 'Fantasy']   1865   \n",
       "1   300000000                 ['Adventure', 'Fantasy', 'Action']    285   \n",
       "7   280000000         ['Action', 'Adventure', 'Science Fiction']  99861   \n",
       "10  270000000  ['Adventure', 'Fantasy', 'Action', 'Science Fi...   1452   \n",
       "6   260000000                            ['Animation', 'Family']  38757   \n",
       "\n",
       "    popularity          production_countries release_date     revenue  \\\n",
       "17  135.413856  ['United States of America']   2011-05-14  1045713802   \n",
       "1   139.082615  ['United States of America']   2007-05-19   961000000   \n",
       "7   134.279229  ['United States of America']   2015-04-22  1405403694   \n",
       "10   57.925623  ['United States of America']   2006-06-28   391081192   \n",
       "6    48.681969  ['United States of America']   2010-11-24   591794936   \n",
       "\n",
       "    runtime                    spoken_languages  \\\n",
       "17    136.0              ['English', 'Español']   \n",
       "1     169.0                         ['English']   \n",
       "7     141.0                         ['English']   \n",
       "10    154.0  ['English', 'Français', 'Deutsch']   \n",
       "6     100.0                         ['English']   \n",
       "\n",
       "                                          title  vote_average  vote_count  \\\n",
       "17  Pirates of the Caribbean: On Stranger Tides           6.4        4948   \n",
       "1      Pirates of the Caribbean: At World's End           6.9        4500   \n",
       "7                       Avengers: Age of Ultron           7.3        6767   \n",
       "10                             Superman Returns           5.4        1400   \n",
       "6                                       Tangled           7.4        3330   \n",
       "\n",
       "    release_year  \n",
       "17          2011  \n",
       "1           2007  \n",
       "7           2015  \n",
       "10          2006  \n",
       "6           2010  "
      ]
     },
     "execution_count": 12,
     "metadata": {},
     "output_type": "execute_result"
    }
   ],
   "source": [
    "most_expensive_movies = movies_df.sort_values(by='budget', ascending=False)\n",
    "most_expensive_movies.head()"
   ]
  },
  {
   "cell_type": "code",
   "execution_count": 13,
   "metadata": {},
   "outputs": [
    {
     "data": {
      "text/html": [
       "<div>\n",
       "<style scoped>\n",
       "    .dataframe tbody tr th:only-of-type {\n",
       "        vertical-align: middle;\n",
       "    }\n",
       "\n",
       "    .dataframe tbody tr th {\n",
       "        vertical-align: top;\n",
       "    }\n",
       "\n",
       "    .dataframe thead th {\n",
       "        text-align: right;\n",
       "    }\n",
       "</style>\n",
       "<table border=\"1\" class=\"dataframe\">\n",
       "  <thead>\n",
       "    <tr style=\"text-align: right;\">\n",
       "      <th></th>\n",
       "      <th>budget</th>\n",
       "      <th>genres</th>\n",
       "      <th>id</th>\n",
       "      <th>popularity</th>\n",
       "      <th>production_countries</th>\n",
       "      <th>release_date</th>\n",
       "      <th>revenue</th>\n",
       "      <th>runtime</th>\n",
       "      <th>spoken_languages</th>\n",
       "      <th>title</th>\n",
       "      <th>vote_average</th>\n",
       "      <th>vote_count</th>\n",
       "      <th>release_year</th>\n",
       "    </tr>\n",
       "  </thead>\n",
       "  <tbody>\n",
       "    <tr>\n",
       "      <th>4238</th>\n",
       "      <td>1</td>\n",
       "      <td>['Drama', 'Comedy']</td>\n",
       "      <td>3082</td>\n",
       "      <td>28.276480</td>\n",
       "      <td>['United States of America']</td>\n",
       "      <td>1936-02-05</td>\n",
       "      <td>8500000</td>\n",
       "      <td>87.0</td>\n",
       "      <td>['English']</td>\n",
       "      <td>Modern Times</td>\n",
       "      <td>8.1</td>\n",
       "      <td>856</td>\n",
       "      <td>1936</td>\n",
       "    </tr>\n",
       "    <tr>\n",
       "      <th>3611</th>\n",
       "      <td>4</td>\n",
       "      <td>['Drama', 'Romance', 'War']</td>\n",
       "      <td>22649</td>\n",
       "      <td>1.199451</td>\n",
       "      <td>['United States of America']</td>\n",
       "      <td>1932-12-08</td>\n",
       "      <td>25</td>\n",
       "      <td>89.0</td>\n",
       "      <td>['English']</td>\n",
       "      <td>A Farewell to Arms</td>\n",
       "      <td>6.2</td>\n",
       "      <td>28</td>\n",
       "      <td>1932</td>\n",
       "    </tr>\n",
       "    <tr>\n",
       "      <th>3372</th>\n",
       "      <td>7</td>\n",
       "      <td>['Thriller', 'Action', 'Horror', 'Science Fict...</td>\n",
       "      <td>13006</td>\n",
       "      <td>4.857028</td>\n",
       "      <td>['United Kingdom']</td>\n",
       "      <td>1992-05-01</td>\n",
       "      <td>5</td>\n",
       "      <td>90.0</td>\n",
       "      <td>['English']</td>\n",
       "      <td>Split Second</td>\n",
       "      <td>5.7</td>\n",
       "      <td>63</td>\n",
       "      <td>1992</td>\n",
       "    </tr>\n",
       "    <tr>\n",
       "      <th>3419</th>\n",
       "      <td>7</td>\n",
       "      <td>['Comedy', 'Drama', 'Foreign', 'Romance']</td>\n",
       "      <td>38415</td>\n",
       "      <td>0.050456</td>\n",
       "      <td>[]</td>\n",
       "      <td>2009-08-09</td>\n",
       "      <td>7</td>\n",
       "      <td>82.0</td>\n",
       "      <td>[]</td>\n",
       "      <td>Bran Nue Dae</td>\n",
       "      <td>5.2</td>\n",
       "      <td>6</td>\n",
       "      <td>2009</td>\n",
       "    </tr>\n",
       "    <tr>\n",
       "      <th>4608</th>\n",
       "      <td>8</td>\n",
       "      <td>['Fantasy', 'Horror', 'Thriller']</td>\n",
       "      <td>11980</td>\n",
       "      <td>11.818333</td>\n",
       "      <td>['United States of America']</td>\n",
       "      <td>1995-09-01</td>\n",
       "      <td>16</td>\n",
       "      <td>98.0</td>\n",
       "      <td>['English']</td>\n",
       "      <td>The Prophecy</td>\n",
       "      <td>6.4</td>\n",
       "      <td>138</td>\n",
       "      <td>1995</td>\n",
       "    </tr>\n",
       "  </tbody>\n",
       "</table>\n",
       "</div>"
      ],
      "text/plain": [
       "      budget                                             genres     id  \\\n",
       "4238       1                                ['Drama', 'Comedy']   3082   \n",
       "3611       4                        ['Drama', 'Romance', 'War']  22649   \n",
       "3372       7  ['Thriller', 'Action', 'Horror', 'Science Fict...  13006   \n",
       "3419       7          ['Comedy', 'Drama', 'Foreign', 'Romance']  38415   \n",
       "4608       8                  ['Fantasy', 'Horror', 'Thriller']  11980   \n",
       "\n",
       "      popularity          production_countries release_date  revenue  runtime  \\\n",
       "4238   28.276480  ['United States of America']   1936-02-05  8500000     87.0   \n",
       "3611    1.199451  ['United States of America']   1932-12-08       25     89.0   \n",
       "3372    4.857028            ['United Kingdom']   1992-05-01        5     90.0   \n",
       "3419    0.050456                            []   2009-08-09        7     82.0   \n",
       "4608   11.818333  ['United States of America']   1995-09-01       16     98.0   \n",
       "\n",
       "     spoken_languages               title  vote_average  vote_count  \\\n",
       "4238      ['English']        Modern Times           8.1         856   \n",
       "3611      ['English']  A Farewell to Arms           6.2          28   \n",
       "3372      ['English']        Split Second           5.7          63   \n",
       "3419               []        Bran Nue Dae           5.2           6   \n",
       "4608      ['English']        The Prophecy           6.4         138   \n",
       "\n",
       "      release_year  \n",
       "4238          1936  \n",
       "3611          1932  \n",
       "3372          1992  \n",
       "3419          2009  \n",
       "4608          1995  "
      ]
     },
     "execution_count": 13,
     "metadata": {},
     "output_type": "execute_result"
    }
   ],
   "source": [
    "cheapest_movies = movies_df.sort_values(by='budget', ascending=True)\n",
    "cheapest_movies.head()"
   ]
  },
  {
   "cell_type": "markdown",
   "metadata": {},
   "source": [
    "We can see in the most expensive movies that higher budget typically leads to more revenue, while the cheapest movies tends to get lower revenue, with the exception of the movie \"Modern Times\"\n",
    "All the expensive movies tend to be popular even if they are badly rated and get huge vote counts, but not necessarily a good vote average while the cheaper movies get almost no popularity with low vote count, but the vote average looks rather the same\n"
   ]
  },
  {
   "attachments": {},
   "cell_type": "markdown",
   "metadata": {
    "id": "_jqV6iG7zOke"
   },
   "source": [
    "#### What are the top 5 most profitable movies? \n",
    "\n",
    "Compare the min and max profits. The comparison helps us identify the different approaches which failed and succeeded. Subtracting the budget from the revenue generated, will return the profit earned."
   ]
  },
  {
   "cell_type": "code",
   "execution_count": 15,
   "metadata": {
    "id": "IkGr3Va4zOke"
   },
   "outputs": [
    {
     "data": {
      "text/html": [
       "<div>\n",
       "<style scoped>\n",
       "    .dataframe tbody tr th:only-of-type {\n",
       "        vertical-align: middle;\n",
       "    }\n",
       "\n",
       "    .dataframe tbody tr th {\n",
       "        vertical-align: top;\n",
       "    }\n",
       "\n",
       "    .dataframe thead th {\n",
       "        text-align: right;\n",
       "    }\n",
       "</style>\n",
       "<table border=\"1\" class=\"dataframe\">\n",
       "  <thead>\n",
       "    <tr style=\"text-align: right;\">\n",
       "      <th></th>\n",
       "      <th>budget</th>\n",
       "      <th>genres</th>\n",
       "      <th>id</th>\n",
       "      <th>popularity</th>\n",
       "      <th>production_countries</th>\n",
       "      <th>release_date</th>\n",
       "      <th>revenue</th>\n",
       "      <th>runtime</th>\n",
       "      <th>spoken_languages</th>\n",
       "      <th>title</th>\n",
       "      <th>vote_average</th>\n",
       "      <th>vote_count</th>\n",
       "      <th>release_year</th>\n",
       "      <th>profit</th>\n",
       "    </tr>\n",
       "  </thead>\n",
       "  <tbody>\n",
       "    <tr>\n",
       "      <th>0</th>\n",
       "      <td>237000000</td>\n",
       "      <td>['Action', 'Adventure', 'Fantasy', 'Science Fi...</td>\n",
       "      <td>19995</td>\n",
       "      <td>150.437577</td>\n",
       "      <td>['United States of America', 'United Kingdom']</td>\n",
       "      <td>2009-12-10</td>\n",
       "      <td>2787965087</td>\n",
       "      <td>162.0</td>\n",
       "      <td>['English', 'Español']</td>\n",
       "      <td>Avatar</td>\n",
       "      <td>7.2</td>\n",
       "      <td>11800</td>\n",
       "      <td>2009</td>\n",
       "      <td>2550965087</td>\n",
       "    </tr>\n",
       "    <tr>\n",
       "      <th>25</th>\n",
       "      <td>200000000</td>\n",
       "      <td>['Drama', 'Romance', 'Thriller']</td>\n",
       "      <td>597</td>\n",
       "      <td>100.025899</td>\n",
       "      <td>['United States of America']</td>\n",
       "      <td>1997-11-18</td>\n",
       "      <td>1845034188</td>\n",
       "      <td>194.0</td>\n",
       "      <td>['English', 'Français', 'Deutsch', 'svenska', ...</td>\n",
       "      <td>Titanic</td>\n",
       "      <td>7.5</td>\n",
       "      <td>7562</td>\n",
       "      <td>1997</td>\n",
       "      <td>1645034188</td>\n",
       "    </tr>\n",
       "    <tr>\n",
       "      <th>28</th>\n",
       "      <td>150000000</td>\n",
       "      <td>['Action', 'Adventure', 'Science Fiction', 'Th...</td>\n",
       "      <td>135397</td>\n",
       "      <td>418.708552</td>\n",
       "      <td>['United States of America']</td>\n",
       "      <td>2015-06-09</td>\n",
       "      <td>1513528810</td>\n",
       "      <td>124.0</td>\n",
       "      <td>['English']</td>\n",
       "      <td>Jurassic World</td>\n",
       "      <td>6.5</td>\n",
       "      <td>8662</td>\n",
       "      <td>2015</td>\n",
       "      <td>1363528810</td>\n",
       "    </tr>\n",
       "    <tr>\n",
       "      <th>44</th>\n",
       "      <td>190000000</td>\n",
       "      <td>['Action']</td>\n",
       "      <td>168259</td>\n",
       "      <td>102.322217</td>\n",
       "      <td>['Japan', 'United States of America']</td>\n",
       "      <td>2015-04-01</td>\n",
       "      <td>1506249360</td>\n",
       "      <td>137.0</td>\n",
       "      <td>['English']</td>\n",
       "      <td>Furious 7</td>\n",
       "      <td>7.3</td>\n",
       "      <td>4176</td>\n",
       "      <td>2015</td>\n",
       "      <td>1316249360</td>\n",
       "    </tr>\n",
       "    <tr>\n",
       "      <th>16</th>\n",
       "      <td>220000000</td>\n",
       "      <td>['Science Fiction', 'Action', 'Adventure']</td>\n",
       "      <td>24428</td>\n",
       "      <td>144.448633</td>\n",
       "      <td>['United States of America']</td>\n",
       "      <td>2012-04-25</td>\n",
       "      <td>1519557910</td>\n",
       "      <td>143.0</td>\n",
       "      <td>['English']</td>\n",
       "      <td>The Avengers</td>\n",
       "      <td>7.4</td>\n",
       "      <td>11776</td>\n",
       "      <td>2012</td>\n",
       "      <td>1299557910</td>\n",
       "    </tr>\n",
       "  </tbody>\n",
       "</table>\n",
       "</div>"
      ],
      "text/plain": [
       "       budget                                             genres      id  \\\n",
       "0   237000000  ['Action', 'Adventure', 'Fantasy', 'Science Fi...   19995   \n",
       "25  200000000                   ['Drama', 'Romance', 'Thriller']     597   \n",
       "28  150000000  ['Action', 'Adventure', 'Science Fiction', 'Th...  135397   \n",
       "44  190000000                                         ['Action']  168259   \n",
       "16  220000000         ['Science Fiction', 'Action', 'Adventure']   24428   \n",
       "\n",
       "    popularity                            production_countries release_date  \\\n",
       "0   150.437577  ['United States of America', 'United Kingdom']   2009-12-10   \n",
       "25  100.025899                    ['United States of America']   1997-11-18   \n",
       "28  418.708552                    ['United States of America']   2015-06-09   \n",
       "44  102.322217           ['Japan', 'United States of America']   2015-04-01   \n",
       "16  144.448633                    ['United States of America']   2012-04-25   \n",
       "\n",
       "       revenue  runtime                                   spoken_languages  \\\n",
       "0   2787965087    162.0                             ['English', 'Español']   \n",
       "25  1845034188    194.0  ['English', 'Français', 'Deutsch', 'svenska', ...   \n",
       "28  1513528810    124.0                                        ['English']   \n",
       "44  1506249360    137.0                                        ['English']   \n",
       "16  1519557910    143.0                                        ['English']   \n",
       "\n",
       "             title  vote_average  vote_count  release_year      profit  \n",
       "0           Avatar           7.2       11800          2009  2550965087  \n",
       "25         Titanic           7.5        7562          1997  1645034188  \n",
       "28  Jurassic World           6.5        8662          2015  1363528810  \n",
       "44       Furious 7           7.3        4176          2015  1316249360  \n",
       "16    The Avengers           7.4       11776          2012  1299557910  "
      ]
     },
     "execution_count": 15,
     "metadata": {},
     "output_type": "execute_result"
    }
   ],
   "source": [
    "movies_df['profit'] = movies_df['revenue'] - movies_df['budget']\n",
    "min_profit = movies_df['profit'].min()\n",
    "max_profit = movies_df['profit'].max()\n",
    "min_profit_movie = movies_df[movies_df['profit'] == min_profit]\n",
    "max_profit_movie = movies_df[movies_df['profit'] == max_profit]\n",
    "moat_profitable_movies = movies_df.sort_values(by='profit', ascending=False)\n",
    "moat_profitable_movies.head()"
   ]
  },
  {
   "cell_type": "code",
   "execution_count": 16,
   "metadata": {},
   "outputs": [
    {
     "data": {
      "text/html": [
       "<div>\n",
       "<style scoped>\n",
       "    .dataframe tbody tr th:only-of-type {\n",
       "        vertical-align: middle;\n",
       "    }\n",
       "\n",
       "    .dataframe tbody tr th {\n",
       "        vertical-align: top;\n",
       "    }\n",
       "\n",
       "    .dataframe thead th {\n",
       "        text-align: right;\n",
       "    }\n",
       "</style>\n",
       "<table border=\"1\" class=\"dataframe\">\n",
       "  <thead>\n",
       "    <tr style=\"text-align: right;\">\n",
       "      <th></th>\n",
       "      <th>budget</th>\n",
       "      <th>genres</th>\n",
       "      <th>id</th>\n",
       "      <th>popularity</th>\n",
       "      <th>production_countries</th>\n",
       "      <th>release_date</th>\n",
       "      <th>revenue</th>\n",
       "      <th>runtime</th>\n",
       "      <th>spoken_languages</th>\n",
       "      <th>title</th>\n",
       "      <th>vote_average</th>\n",
       "      <th>vote_count</th>\n",
       "      <th>release_year</th>\n",
       "      <th>profit</th>\n",
       "    </tr>\n",
       "  </thead>\n",
       "  <tbody>\n",
       "    <tr>\n",
       "      <th>13</th>\n",
       "      <td>255000000</td>\n",
       "      <td>['Action', 'Adventure', 'Western']</td>\n",
       "      <td>57201</td>\n",
       "      <td>49.046956</td>\n",
       "      <td>['United States of America']</td>\n",
       "      <td>2013-07-03</td>\n",
       "      <td>89289910</td>\n",
       "      <td>149.0</td>\n",
       "      <td>['English']</td>\n",
       "      <td>The Lone Ranger</td>\n",
       "      <td>5.9</td>\n",
       "      <td>2311</td>\n",
       "      <td>2013</td>\n",
       "      <td>-165710090</td>\n",
       "    </tr>\n",
       "  </tbody>\n",
       "</table>\n",
       "</div>"
      ],
      "text/plain": [
       "       budget                              genres     id  popularity  \\\n",
       "13  255000000  ['Action', 'Adventure', 'Western']  57201   49.046956   \n",
       "\n",
       "            production_countries release_date   revenue  runtime  \\\n",
       "13  ['United States of America']   2013-07-03  89289910    149.0   \n",
       "\n",
       "   spoken_languages            title  vote_average  vote_count  release_year  \\\n",
       "13      ['English']  The Lone Ranger           5.9        2311          2013   \n",
       "\n",
       "       profit  \n",
       "13 -165710090  "
      ]
     },
     "execution_count": 16,
     "metadata": {},
     "output_type": "execute_result"
    }
   ],
   "source": [
    "min_profit_movie"
   ]
  },
  {
   "cell_type": "code",
   "execution_count": 17,
   "metadata": {},
   "outputs": [
    {
     "data": {
      "text/html": [
       "<div>\n",
       "<style scoped>\n",
       "    .dataframe tbody tr th:only-of-type {\n",
       "        vertical-align: middle;\n",
       "    }\n",
       "\n",
       "    .dataframe tbody tr th {\n",
       "        vertical-align: top;\n",
       "    }\n",
       "\n",
       "    .dataframe thead th {\n",
       "        text-align: right;\n",
       "    }\n",
       "</style>\n",
       "<table border=\"1\" class=\"dataframe\">\n",
       "  <thead>\n",
       "    <tr style=\"text-align: right;\">\n",
       "      <th></th>\n",
       "      <th>budget</th>\n",
       "      <th>genres</th>\n",
       "      <th>id</th>\n",
       "      <th>popularity</th>\n",
       "      <th>production_countries</th>\n",
       "      <th>release_date</th>\n",
       "      <th>revenue</th>\n",
       "      <th>runtime</th>\n",
       "      <th>spoken_languages</th>\n",
       "      <th>title</th>\n",
       "      <th>vote_average</th>\n",
       "      <th>vote_count</th>\n",
       "      <th>release_year</th>\n",
       "      <th>profit</th>\n",
       "    </tr>\n",
       "  </thead>\n",
       "  <tbody>\n",
       "    <tr>\n",
       "      <th>0</th>\n",
       "      <td>237000000</td>\n",
       "      <td>['Action', 'Adventure', 'Fantasy', 'Science Fi...</td>\n",
       "      <td>19995</td>\n",
       "      <td>150.437577</td>\n",
       "      <td>['United States of America', 'United Kingdom']</td>\n",
       "      <td>2009-12-10</td>\n",
       "      <td>2787965087</td>\n",
       "      <td>162.0</td>\n",
       "      <td>['English', 'Español']</td>\n",
       "      <td>Avatar</td>\n",
       "      <td>7.2</td>\n",
       "      <td>11800</td>\n",
       "      <td>2009</td>\n",
       "      <td>2550965087</td>\n",
       "    </tr>\n",
       "  </tbody>\n",
       "</table>\n",
       "</div>"
      ],
      "text/plain": [
       "      budget                                             genres     id  \\\n",
       "0  237000000  ['Action', 'Adventure', 'Fantasy', 'Science Fi...  19995   \n",
       "\n",
       "   popularity                            production_countries release_date  \\\n",
       "0  150.437577  ['United States of America', 'United Kingdom']   2009-12-10   \n",
       "\n",
       "      revenue  runtime        spoken_languages   title  vote_average  \\\n",
       "0  2787965087    162.0  ['English', 'Español']  Avatar           7.2   \n",
       "\n",
       "   vote_count  release_year      profit  \n",
       "0       11800          2009  2550965087  "
      ]
     },
     "execution_count": 17,
     "metadata": {},
     "output_type": "execute_result"
    }
   ],
   "source": [
    "max_profit_movie"
   ]
  },
  {
   "cell_type": "markdown",
   "metadata": {},
   "source": [
    "We can see that the movie with the highest profit was a hit in popularity because of how well it performed, getting a high vote average while the movie with the lowest profit had a significantly lower popularity and vote average"
   ]
  },
  {
   "cell_type": "code",
   "execution_count": 30,
   "metadata": {},
   "outputs": [
    {
     "data": {
      "text/plain": [
       "Text(0, 0.5, 'Profit')"
      ]
     },
     "execution_count": 30,
     "metadata": {},
     "output_type": "execute_result"
    },
    {
     "data": {
      "image/png": "[encoded data removed]",
      "text/plain": [
       "<Figure size 640x480 with 1 Axes>"
      ]
     },
     "metadata": {},
     "output_type": "display_data"
    }
   ],
   "source": [
    "sns.scatterplot(x='budget', y='profit', data=movies_df)\n",
    "plt.title('Profit vs. Budget')\n",
    "plt.xlabel('Budget')\n",
    "plt.ylabel('Profit')"
   ]
  },
  {
   "cell_type": "markdown",
   "metadata": {},
   "source": [
    "We can see that there is a positive correlation between a movie’s profit and budget, meaning that the more budget a movie has, the more likely it is to generate more profit. "
   ]
  },
  {
   "attachments": {},
   "cell_type": "markdown",
   "metadata": {
    "id": "gqs-eBKizOke"
   },
   "source": [
    "#### Find the most popular movies. \n",
    "Sort the dataframe based on the popularity column."
   ]
  },
  {
   "cell_type": "code",
   "execution_count": 18,
   "metadata": {},
   "outputs": [
    {
     "data": {
      "text/html": [
       "<div>\n",
       "<style scoped>\n",
       "    .dataframe tbody tr th:only-of-type {\n",
       "        vertical-align: middle;\n",
       "    }\n",
       "\n",
       "    .dataframe tbody tr th {\n",
       "        vertical-align: top;\n",
       "    }\n",
       "\n",
       "    .dataframe thead th {\n",
       "        text-align: right;\n",
       "    }\n",
       "</style>\n",
       "<table border=\"1\" class=\"dataframe\">\n",
       "  <thead>\n",
       "    <tr style=\"text-align: right;\">\n",
       "      <th></th>\n",
       "      <th>budget</th>\n",
       "      <th>genres</th>\n",
       "      <th>id</th>\n",
       "      <th>popularity</th>\n",
       "      <th>production_countries</th>\n",
       "      <th>release_date</th>\n",
       "      <th>revenue</th>\n",
       "      <th>runtime</th>\n",
       "      <th>spoken_languages</th>\n",
       "      <th>title</th>\n",
       "      <th>vote_average</th>\n",
       "      <th>vote_count</th>\n",
       "      <th>release_year</th>\n",
       "      <th>profit</th>\n",
       "    </tr>\n",
       "  </thead>\n",
       "  <tbody>\n",
       "    <tr>\n",
       "      <th>546</th>\n",
       "      <td>74000000</td>\n",
       "      <td>['Family', 'Animation', 'Adventure', 'Comedy']</td>\n",
       "      <td>211672</td>\n",
       "      <td>875.581305</td>\n",
       "      <td>['United States of America']</td>\n",
       "      <td>2015-06-17</td>\n",
       "      <td>1156730962</td>\n",
       "      <td>91.0</td>\n",
       "      <td>['English']</td>\n",
       "      <td>Minions</td>\n",
       "      <td>6.4</td>\n",
       "      <td>4571</td>\n",
       "      <td>2015</td>\n",
       "      <td>1082730962</td>\n",
       "    </tr>\n",
       "    <tr>\n",
       "      <th>95</th>\n",
       "      <td>165000000</td>\n",
       "      <td>['Adventure', 'Drama', 'Science Fiction']</td>\n",
       "      <td>157336</td>\n",
       "      <td>724.247784</td>\n",
       "      <td>['Canada', 'United States of America', 'United...</td>\n",
       "      <td>2014-11-05</td>\n",
       "      <td>675120017</td>\n",
       "      <td>169.0</td>\n",
       "      <td>['English']</td>\n",
       "      <td>Interstellar</td>\n",
       "      <td>8.1</td>\n",
       "      <td>10867</td>\n",
       "      <td>2014</td>\n",
       "      <td>510120017</td>\n",
       "    </tr>\n",
       "    <tr>\n",
       "      <th>788</th>\n",
       "      <td>58000000</td>\n",
       "      <td>['Action', 'Adventure', 'Comedy']</td>\n",
       "      <td>293660</td>\n",
       "      <td>514.569956</td>\n",
       "      <td>['United States of America']</td>\n",
       "      <td>2016-02-09</td>\n",
       "      <td>783112979</td>\n",
       "      <td>108.0</td>\n",
       "      <td>['English']</td>\n",
       "      <td>Deadpool</td>\n",
       "      <td>7.4</td>\n",
       "      <td>10995</td>\n",
       "      <td>2016</td>\n",
       "      <td>725112979</td>\n",
       "    </tr>\n",
       "    <tr>\n",
       "      <th>94</th>\n",
       "      <td>170000000</td>\n",
       "      <td>['Action', 'Science Fiction', 'Adventure']</td>\n",
       "      <td>118340</td>\n",
       "      <td>481.098624</td>\n",
       "      <td>['United Kingdom', 'United States of America']</td>\n",
       "      <td>2014-07-30</td>\n",
       "      <td>773328629</td>\n",
       "      <td>121.0</td>\n",
       "      <td>['English']</td>\n",
       "      <td>Guardians of the Galaxy</td>\n",
       "      <td>7.9</td>\n",
       "      <td>9742</td>\n",
       "      <td>2014</td>\n",
       "      <td>603328629</td>\n",
       "    </tr>\n",
       "    <tr>\n",
       "      <th>127</th>\n",
       "      <td>150000000</td>\n",
       "      <td>['Action', 'Adventure', 'Science Fiction', 'Th...</td>\n",
       "      <td>76341</td>\n",
       "      <td>434.278564</td>\n",
       "      <td>['Australia', 'United States of America']</td>\n",
       "      <td>2015-05-13</td>\n",
       "      <td>378858340</td>\n",
       "      <td>120.0</td>\n",
       "      <td>['English']</td>\n",
       "      <td>Mad Max: Fury Road</td>\n",
       "      <td>7.2</td>\n",
       "      <td>9427</td>\n",
       "      <td>2015</td>\n",
       "      <td>228858340</td>\n",
       "    </tr>\n",
       "  </tbody>\n",
       "</table>\n",
       "</div>"
      ],
      "text/plain": [
       "        budget                                             genres      id  \\\n",
       "546   74000000     ['Family', 'Animation', 'Adventure', 'Comedy']  211672   \n",
       "95   165000000          ['Adventure', 'Drama', 'Science Fiction']  157336   \n",
       "788   58000000                  ['Action', 'Adventure', 'Comedy']  293660   \n",
       "94   170000000         ['Action', 'Science Fiction', 'Adventure']  118340   \n",
       "127  150000000  ['Action', 'Adventure', 'Science Fiction', 'Th...   76341   \n",
       "\n",
       "     popularity                               production_countries  \\\n",
       "546  875.581305                       ['United States of America']   \n",
       "95   724.247784  ['Canada', 'United States of America', 'United...   \n",
       "788  514.569956                       ['United States of America']   \n",
       "94   481.098624     ['United Kingdom', 'United States of America']   \n",
       "127  434.278564          ['Australia', 'United States of America']   \n",
       "\n",
       "    release_date     revenue  runtime spoken_languages  \\\n",
       "546   2015-06-17  1156730962     91.0      ['English']   \n",
       "95    2014-11-05   675120017    169.0      ['English']   \n",
       "788   2016-02-09   783112979    108.0      ['English']   \n",
       "94    2014-07-30   773328629    121.0      ['English']   \n",
       "127   2015-05-13   378858340    120.0      ['English']   \n",
       "\n",
       "                       title  vote_average  vote_count  release_year  \\\n",
       "546                  Minions           6.4        4571          2015   \n",
       "95              Interstellar           8.1       10867          2014   \n",
       "788                 Deadpool           7.4       10995          2016   \n",
       "94   Guardians of the Galaxy           7.9        9742          2014   \n",
       "127       Mad Max: Fury Road           7.2        9427          2015   \n",
       "\n",
       "         profit  \n",
       "546  1082730962  \n",
       "95    510120017  \n",
       "788   725112979  \n",
       "94    603328629  \n",
       "127   228858340  "
      ]
     },
     "execution_count": 18,
     "metadata": {},
     "output_type": "execute_result"
    }
   ],
   "source": [
    "popular_movies = movies_df.sort_values(by='popularity', ascending=False)\n",
    "popular_movies.head()"
   ]
  },
  {
   "cell_type": "code",
   "execution_count": 34,
   "metadata": {},
   "outputs": [
    {
     "data": {
      "text/plain": [
       "Text(0, 0.5, 'popularity')"
      ]
     },
     "execution_count": 34,
     "metadata": {},
     "output_type": "execute_result"
    },
    {
     "data": {
      "image/png": "[encoded data removed]",
      "text/plain": [
       "<Figure size 640x480 with 1 Axes>"
      ]
     },
     "metadata": {},
     "output_type": "display_data"
    }
   ],
   "source": [
    "sns.boxplot(y='popularity', data=movies_df)\n",
    "plt.title('Summary of popularity ranges')\n",
    "plt.ylabel('popularity')"
   ]
  },
  {
   "cell_type": "markdown",
   "metadata": {},
   "source": [
    "The majority of movies in the dataset have a very low popularity score, being between roughly 10 and 40. However, there are a significant number of outliers with movies that are considerably more popular than the average movie in this dataset, with some of them reaching up to nearly 900."
   ]
  },
  {
   "attachments": {},
   "cell_type": "markdown",
   "metadata": {
    "id": "t8GJwQQGzOkf"
   },
   "source": [
    "#### Find Movies which are rated above 7"
   ]
  },
  {
   "cell_type": "code",
   "execution_count": 19,
   "metadata": {
    "id": "fgZvo-auzOkf"
   },
   "outputs": [
    {
     "data": {
      "text/html": [
       "<div>\n",
       "<style scoped>\n",
       "    .dataframe tbody tr th:only-of-type {\n",
       "        vertical-align: middle;\n",
       "    }\n",
       "\n",
       "    .dataframe tbody tr th {\n",
       "        vertical-align: top;\n",
       "    }\n",
       "\n",
       "    .dataframe thead th {\n",
       "        text-align: right;\n",
       "    }\n",
       "</style>\n",
       "<table border=\"1\" class=\"dataframe\">\n",
       "  <thead>\n",
       "    <tr style=\"text-align: right;\">\n",
       "      <th></th>\n",
       "      <th>budget</th>\n",
       "      <th>genres</th>\n",
       "      <th>id</th>\n",
       "      <th>popularity</th>\n",
       "      <th>production_countries</th>\n",
       "      <th>release_date</th>\n",
       "      <th>revenue</th>\n",
       "      <th>runtime</th>\n",
       "      <th>spoken_languages</th>\n",
       "      <th>title</th>\n",
       "      <th>vote_average</th>\n",
       "      <th>vote_count</th>\n",
       "      <th>release_year</th>\n",
       "      <th>profit</th>\n",
       "    </tr>\n",
       "  </thead>\n",
       "  <tbody>\n",
       "    <tr>\n",
       "      <th>2167</th>\n",
       "      <td>20000000</td>\n",
       "      <td>['Mystery', 'Adventure', 'Crime']</td>\n",
       "      <td>328387</td>\n",
       "      <td>62.933899</td>\n",
       "      <td>['United States of America']</td>\n",
       "      <td>2016-07-27</td>\n",
       "      <td>83707310</td>\n",
       "      <td>96.0</td>\n",
       "      <td>['English']</td>\n",
       "      <td>Nerve</td>\n",
       "      <td>7.1</td>\n",
       "      <td>2181</td>\n",
       "      <td>2016</td>\n",
       "      <td>63707310</td>\n",
       "    </tr>\n",
       "  </tbody>\n",
       "</table>\n",
       "</div>"
      ],
      "text/plain": [
       "        budget                             genres      id  popularity  \\\n",
       "2167  20000000  ['Mystery', 'Adventure', 'Crime']  328387   62.933899   \n",
       "\n",
       "              production_countries release_date   revenue  runtime  \\\n",
       "2167  ['United States of America']   2016-07-27  83707310     96.0   \n",
       "\n",
       "     spoken_languages  title  vote_average  vote_count  release_year    profit  \n",
       "2167      ['English']  Nerve           7.1        2181          2016  63707310  "
      ]
     },
     "execution_count": 19,
     "metadata": {},
     "output_type": "execute_result"
    }
   ],
   "source": [
    "well_rated_movies = movies_df[movies_df['vote_average'] > 7]\n",
    "well_rated_movies.sample()"
   ]
  },
  {
   "cell_type": "code",
   "execution_count": 25,
   "metadata": {},
   "outputs": [
    {
     "data": {
      "text/plain": [
       "Text(0, 0.5, 'Vote average')"
      ]
     },
     "execution_count": 25,
     "metadata": {},
     "output_type": "execute_result"
    },
    {
     "data": {
      "image/png": "[encoded data removed]",
      "text/plain": [
       "<Figure size 640x480 with 1 Axes>"
      ]
     },
     "metadata": {},
     "output_type": "display_data"
    }
   ],
   "source": [
    "sns.boxplot(y='vote_average', data=movies_df)\n",
    "plt.title('Summary of vote average')\n",
    "plt.ylabel('Vote average')"
   ]
  },
  {
   "cell_type": "markdown",
   "metadata": {},
   "source": [
    "The majority of movie voted average in the dataset fall within the ranges of roughly 7 to 6, , but there are alot more low average outliers, going down to around a rating of 2."
   ]
  },
  {
   "attachments": {},
   "cell_type": "markdown",
   "metadata": {
    "id": "JEb7f2_AzOkg"
   },
   "source": [
    "#### Most successful genres \n",
    "Create a bar plot explaining the frequency of movies in each genre."
   ]
  },
  {
   "cell_type": "code",
   "execution_count": 20,
   "metadata": {
    "id": "Z18gfLx2zOkg"
   },
   "outputs": [
    {
     "data": {
      "image/png": "[encoded data removed]",
      "text/plain": [
       "<Figure size 1200x600 with 1 Axes>"
      ]
     },
     "metadata": {},
     "output_type": "display_data"
    }
   ],
   "source": [
    "genres_list = []\n",
    "\n",
    "for genres in movies_df['genres']:\n",
    "    genres_list.append(genres)\n",
    "\n",
    "genres_2dlist = [ast.literal_eval(string_list) for string_list in genres_list]\n",
    "\n",
    "genres_dict = {}\n",
    "\n",
    "for genres in genres_2dlist:\n",
    "    for genre in genres:\n",
    "        if genre in genres_dict:\n",
    "            genres_dict[genre] += 1\n",
    "        else:\n",
    "            genres_dict[genre] = 1\n",
    "\n",
    "plt.figure(figsize=(12, 6))\n",
    "plt.bar(genres_dict.keys(), genres_dict.values())\n",
    "plt.title('Frequency of Each Movie Genre')\n",
    "plt.xlabel('Genre')\n",
    "plt.ylabel('Count of Movies')\n",
    "plt.xticks(rotation=45, ha='right')\n",
    "plt.tight_layout()"
   ]
  },
  {
   "cell_type": "markdown",
   "metadata": {},
   "source": [
    "We can see that most movies fall under the following categories: Drama, Action, Thriller and Comedy. "
   ]
  },
  {
   "cell_type": "code",
   "execution_count": 21,
   "metadata": {
    "id": "IuHFwUx3zOkg"
   },
   "outputs": [
    {
     "data": {
      "text/plain": [
       "Text(0.5, 1.0, 'Relationship between Budget and Revenue')"
      ]
     },
     "execution_count": 21,
     "metadata": {},
     "output_type": "execute_result"
    },
    {
     "data": {
      "image/png": "[encoded data removed]",
      "text/plain": [
       "<Figure size 640x480 with 1 Axes>"
      ]
     },
     "metadata": {},
     "output_type": "display_data"
    }
   ],
   "source": [
    "sns.scatterplot(x='budget', y='revenue', data=movies_df)\n",
    "plt.xlabel('Budget')\n",
    "plt.ylabel('Revenue')\n",
    "plt.title('Relationship between Budget and Revenue')"
   ]
  },
  {
   "cell_type": "markdown",
   "metadata": {},
   "source": [
    "It is safe to say that there is a positive correlation between a movie’s revenue and budget, meaning that the more budget a movie has, the more likely it is to generate more revenue. "
   ]
  },
  {
   "cell_type": "code",
   "execution_count": 22,
   "metadata": {},
   "outputs": [
    {
     "data": {
      "text/plain": [
       "Text(0, 0.5, 'Count of movies')"
      ]
     },
     "execution_count": 22,
     "metadata": {},
     "output_type": "execute_result"
    },
    {
     "data": {
      "image/png": "[encoded data removed]",
      "text/plain": [
       "<Figure size 640x480 with 1 Axes>"
      ]
     },
     "metadata": {},
     "output_type": "display_data"
    }
   ],
   "source": [
    "movies_df['decade'] = (movies_df['release_year'] // 10) * 10\n",
    "\n",
    "sns.countplot(x='decade', data=movies_df)\n",
    "plt.title('release year Count by decade')\n",
    "plt.xlabel('release year')\n",
    "plt.ylabel('Count of movies')"
   ]
  },
  {
   "cell_type": "markdown",
   "metadata": {},
   "source": [
    "From the 1980’s to the 1990’s the production of movies increased by over 100 percent and from the 1990’s to the 2000’s it increased by a further 100 percent."
   ]
  },
  {
   "cell_type": "code",
   "execution_count": 23,
   "metadata": {},
   "outputs": [
    {
     "data": {
      "text/plain": [
       "Text(0, 0.5, 'Frequency')"
      ]
     },
     "execution_count": 23,
     "metadata": {},
     "output_type": "execute_result"
    },
    {
     "data": {
      "image/png": "[encoded data removed]",
      "text/plain": [
       "<Figure size 640x480 with 1 Axes>"
      ]
     },
     "metadata": {},
     "output_type": "display_data"
    }
   ],
   "source": [
    "sns.histplot(x='vote_average', data=movies_df, kde=True)\n",
    "plt.title('Distribution of Movie Average Votes')\n",
    "plt.xlabel('Average Vote')\n",
    "plt.ylabel('Frequency')"
   ]
  },
  {
   "cell_type": "markdown",
   "metadata": {},
   "source": [
    "It seems that most movie ratings fall between the range of 4 to 8 out of 10, being normally distributed."
   ]
  }
 ],
 "metadata": {
  "colab": {
   "provenance": []
  },
  "kernelspec": {
   "display_name": "Python 3",
   "language": "python",
   "name": "python3"
  },
  "language_info": {
   "codemirror_mode": {
    "name": "ipython",
    "version": 3
   },
   "file_extension": ".py",
   "mimetype": "text/x-python",
   "name": "python",
   "nbconvert_exporter": "python",
   "pygments_lexer": "ipython3",
   "version": "3.10.0"
  }
 },
 "nbformat": 4,
 "nbformat_minor": 1
}
